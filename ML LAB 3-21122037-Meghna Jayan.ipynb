{
 "cells": [
  {
   "cell_type": "markdown",
   "id": "a271baa9",
   "metadata": {},
   "source": [
    "<hr/>\n",
    "\n",
    "# <font color ='purple' >LAB 3- PREDICTION OF NUMERIC VALUES</font>\n",
    "<hr/>\n",
    "\n",
    "Submitted by<br>\n",
    "Name : **Meghna Jayan** <br>\n",
    "Register Number: **21122037** <br>\n",
    "Class: **Msc.Data Science**<br>\n",
    "Time Taken: **-6 hours**<br>\n",
    "<hr/>"
   ]
  },
  {
   "cell_type": "markdown",
   "id": "dd69bd4e",
   "metadata": {},
   "source": [
    "# <u>Lab Overview</u>"
   ]
  },
  {
   "cell_type": "markdown",
   "id": "5000e8c3",
   "metadata": {},
   "source": [
    "## Objectives\n",
    "Trying to understand the regression method and trying to predict the numerical values that fit into our specified model.\n"
   ]
  },
  {
   "cell_type": "markdown",
   "id": "84dfdeeb",
   "metadata": {},
   "source": [
    "## Problem statement\n",
    "<b><u>Common Instructions</u></b>\n",
    "<ul>\n",
    "    <li>Use Pandas to Import the Dataset</li>\n",
    "    <li>Do the necessary Exploratory Data Analysis</li>\n",
    "    <li>Use the train_test_split method available in SCIKIT to split the dataset into Train Dataset and Test Dataset.</li>\n",
    "    <li>Show the Regression Score, Intercept and other parameters etc in the Output</li>\n",
    "    <li>Use visualizations and plots wherever possible</li>\n",
    "    <li>Format the outputs neatly; Do Documentation, Data Set Description, Objectives, Observations, Conclusions etc as you have done in your previous lab</li>\n",
    "</ul>\n",
    "<b><u>Questions</u></b>\n",
    "<ol>\n",
    "    <li>What are your observations on the Dataset?</li>\n",
    "    <li>What are the different Error Measures (Evaluation Metrics) in relation to Linear Regression? How much do you get in the above cases?</li\n",
    "    <li>Note down the errors/losses when the train-test ratio is 50:50, 60:40, 70:30, and 80:20</li>\n",
    "    <li>During LinearRegression() process, what is the impact of giving TRUE/FALSE as the value for Normalize Parameter?</li>\n",
    "</ol>\n",
    "<b><u>Cases</u></b>\n",
    "Try to predict the rent of the below houses -\n",
    "<ol>\n",
    "    <li>1 BHK with 2 Baths in Portofino Street</li>\n",
    "    <li>Fully Furnished 2 BHK in School Street</li>\n",
    "    <li>Single Room anywhere in Lavasa</li>\n",
    "</ol>\n"
   ]
  },
  {
   "cell_type": "markdown",
   "id": "2c5510ca",
   "metadata": {},
   "source": [
    "## Approach\n",
    "In order to reach my destination I had done some search on my own from different websites.Used the codes from previous lab work and had done some work on my own from my knowledge about pandas, seaborn,numpy ,matplotlib ,sklearn etc and was also searched on various aspects of linear regression and also done some sitting in discussions."
   ]
  },
  {
   "cell_type": "markdown",
   "id": "4ffcc3e8",
   "metadata": {},
   "source": [
    "## Sections\n",
    "<ul>\n",
    "    <li>Lab Overview</li>\n",
    "    <li>Importing necessary libraries</li>\n",
    "    <li>Coding</li>\n",
    "    <li>Questions</li>\n",
    "    <li>Cases</li>\n",
    "    <li>Conclusion</li>\n",
    "</ul>"
   ]
  },
  {
   "cell_type": "markdown",
   "id": "dccae4fd",
   "metadata": {},
   "source": [
    "## References\n",
    "https://deepchecks.com/glossary/normalization-in-machine-learning/#:~:text=Normalization%20in%20machine%20learning%20is%20the%20process%20of%20translating%20data,when%20Euclidean%20distance%20is%20used.\n",
    "https://scikit-learn.org/stable/modules/generated/sklearn.preprocessing.LabelEncoder.html\n",
    "https://www.google.com/search?q=catplot+in+python&oq=catpl&aqs=chrome.2.69i57j69i59j0i512j69i59j0i512l5j0i10i512.2449j0j7&sourceid=chrome&ie=UTF-8\n",
    "https://realpython.com/linear-regression-in-python/"
   ]
  },
  {
   "cell_type": "markdown",
   "id": "aec6426b",
   "metadata": {},
   "source": [
    "## Importing necessary libraries"
   ]
  },
  {
   "cell_type": "code",
   "execution_count": 2,
   "id": "eaab8af3",
   "metadata": {},
   "outputs": [],
   "source": [
    "import pandas as pd\n",
    "import matplotlib.pyplot as mlp\n",
    "import sklearn as sk\n",
    "import seaborn as sns\n",
    "import numpy as np\n",
    "import warnings\n",
    "warnings.filterwarnings(\"ignore\")\n",
    "from sklearn.linear_model import LinearRegression\n",
    "from sklearn.model_selection import train_test_split"
   ]
  },
  {
   "cell_type": "markdown",
   "id": "391e73da",
   "metadata": {},
   "source": [
    "## Common Instructions\n",
    "Use Pandas to Import the Dataset\n",
    "\n",
    " -Do the necessary Exploratory Data Analysis\n",
    " \n",
    "-Use the train_test_split method available in SCIKIT to split the dataset into Train Dataset and Test Dataset.\n",
    "\n",
    "-Show the Regression Score, Intercept and other parameters etc in the Output\n",
    "-Use visualizations and plots wherever possible\n",
    "\n",
    "-Format the outputs neatly; Do Documentation, Data Set Description, Objectives, Observations, Conclusions etc as you have done in your previous lab\n"
   ]
  },
  {
   "cell_type": "markdown",
   "id": "e4527194",
   "metadata": {},
   "source": [
    "We are trying to change all the portofino A....H into one value that is portofino."
   ]
  },
  {
   "cell_type": "code",
   "execution_count": 174,
   "id": "a9564da7",
   "metadata": {},
   "outputs": [
    {
     "data": {
      "text/html": [
       "<div>\n",
       "<style scoped>\n",
       "    .dataframe tbody tr th:only-of-type {\n",
       "        vertical-align: middle;\n",
       "    }\n",
       "\n",
       "    .dataframe tbody tr th {\n",
       "        vertical-align: top;\n",
       "    }\n",
       "\n",
       "    .dataframe thead th {\n",
       "        text-align: right;\n",
       "    }\n",
       "</style>\n",
       "<table border=\"1\" class=\"dataframe\">\n",
       "  <thead>\n",
       "    <tr style=\"text-align: right;\">\n",
       "      <th></th>\n",
       "      <th>BuildingType</th>\n",
       "      <th>Location</th>\n",
       "      <th>Size</th>\n",
       "      <th>AreaSqFt</th>\n",
       "      <th>NoOfBath</th>\n",
       "      <th>NoOfPeople</th>\n",
       "      <th>NoOfBalcony</th>\n",
       "      <th>RentPerMonth</th>\n",
       "    </tr>\n",
       "  </thead>\n",
       "  <tbody>\n",
       "    <tr>\n",
       "      <th>0</th>\n",
       "      <td>Minimum Budget Rooms</td>\n",
       "      <td>Portofino H</td>\n",
       "      <td>1 BHK</td>\n",
       "      <td>400.0</td>\n",
       "      <td>1</td>\n",
       "      <td>1</td>\n",
       "      <td>1</td>\n",
       "      <td>1100.0</td>\n",
       "    </tr>\n",
       "    <tr>\n",
       "      <th>1</th>\n",
       "      <td>Minimum Budget Rooms</td>\n",
       "      <td>Portofino H</td>\n",
       "      <td>1 BHK</td>\n",
       "      <td>450.0</td>\n",
       "      <td>1</td>\n",
       "      <td>1</td>\n",
       "      <td>1</td>\n",
       "      <td>1100.0</td>\n",
       "    </tr>\n",
       "    <tr>\n",
       "      <th>2</th>\n",
       "      <td>Minimum Budget Rooms</td>\n",
       "      <td>School Street</td>\n",
       "      <td>1 BHK</td>\n",
       "      <td>530.0</td>\n",
       "      <td>1</td>\n",
       "      <td>1</td>\n",
       "      <td>0</td>\n",
       "      <td>1166.0</td>\n",
       "    </tr>\n",
       "    <tr>\n",
       "      <th>3</th>\n",
       "      <td>Minimum Budget Rooms</td>\n",
       "      <td>Portofino B</td>\n",
       "      <td>1 BHK</td>\n",
       "      <td>400.0</td>\n",
       "      <td>1</td>\n",
       "      <td>1</td>\n",
       "      <td>0</td>\n",
       "      <td>1400.0</td>\n",
       "    </tr>\n",
       "    <tr>\n",
       "      <th>4</th>\n",
       "      <td>Minimum Budget Rooms</td>\n",
       "      <td>School Street</td>\n",
       "      <td>2 BHK</td>\n",
       "      <td>460.0</td>\n",
       "      <td>1</td>\n",
       "      <td>1</td>\n",
       "      <td>0</td>\n",
       "      <td>1500.0</td>\n",
       "    </tr>\n",
       "    <tr>\n",
       "      <th>...</th>\n",
       "      <td>...</td>\n",
       "      <td>...</td>\n",
       "      <td>...</td>\n",
       "      <td>...</td>\n",
       "      <td>...</td>\n",
       "      <td>...</td>\n",
       "      <td>...</td>\n",
       "      <td>...</td>\n",
       "    </tr>\n",
       "    <tr>\n",
       "      <th>995</th>\n",
       "      <td>Super Furnished Villa</td>\n",
       "      <td>Portofino D</td>\n",
       "      <td>4 BHK</td>\n",
       "      <td>4900.0</td>\n",
       "      <td>4</td>\n",
       "      <td>6</td>\n",
       "      <td>3</td>\n",
       "      <td>70000.0</td>\n",
       "    </tr>\n",
       "    <tr>\n",
       "      <th>996</th>\n",
       "      <td>Super Furnished Villa</td>\n",
       "      <td>Portofino B</td>\n",
       "      <td>4 BHK</td>\n",
       "      <td>3750.0</td>\n",
       "      <td>4</td>\n",
       "      <td>5</td>\n",
       "      <td>0</td>\n",
       "      <td>76000.0</td>\n",
       "    </tr>\n",
       "    <tr>\n",
       "      <th>997</th>\n",
       "      <td>Super Furnished Villa</td>\n",
       "      <td>School Street</td>\n",
       "      <td>4 BHK</td>\n",
       "      <td>5270.0</td>\n",
       "      <td>4</td>\n",
       "      <td>5</td>\n",
       "      <td>3</td>\n",
       "      <td>80000.0</td>\n",
       "    </tr>\n",
       "    <tr>\n",
       "      <th>998</th>\n",
       "      <td>Super Furnished Villa</td>\n",
       "      <td>Portofino B</td>\n",
       "      <td>6 BHK</td>\n",
       "      <td>5100.0</td>\n",
       "      <td>7</td>\n",
       "      <td>6</td>\n",
       "      <td>3</td>\n",
       "      <td>90000.0</td>\n",
       "    </tr>\n",
       "    <tr>\n",
       "      <th>999</th>\n",
       "      <td>Super Furnished Villa</td>\n",
       "      <td>Portofino B</td>\n",
       "      <td>7 BHK</td>\n",
       "      <td>6300.0</td>\n",
       "      <td>6</td>\n",
       "      <td>6</td>\n",
       "      <td>3</td>\n",
       "      <td>96000.0</td>\n",
       "    </tr>\n",
       "  </tbody>\n",
       "</table>\n",
       "<p>1000 rows × 8 columns</p>\n",
       "</div>"
      ],
      "text/plain": [
       "              BuildingType       Location   Size  AreaSqFt  NoOfBath  \\\n",
       "0     Minimum Budget Rooms    Portofino H  1 BHK     400.0         1   \n",
       "1     Minimum Budget Rooms    Portofino H  1 BHK     450.0         1   \n",
       "2     Minimum Budget Rooms  School Street  1 BHK     530.0         1   \n",
       "3     Minimum Budget Rooms    Portofino B  1 BHK     400.0         1   \n",
       "4     Minimum Budget Rooms  School Street  2 BHK     460.0         1   \n",
       "..                     ...            ...    ...       ...       ...   \n",
       "995  Super Furnished Villa    Portofino D  4 BHK    4900.0         4   \n",
       "996  Super Furnished Villa    Portofino B  4 BHK    3750.0         4   \n",
       "997  Super Furnished Villa  School Street  4 BHK    5270.0         4   \n",
       "998  Super Furnished Villa    Portofino B  6 BHK    5100.0         7   \n",
       "999  Super Furnished Villa    Portofino B  7 BHK    6300.0         6   \n",
       "\n",
       "     NoOfPeople  NoOfBalcony  RentPerMonth  \n",
       "0             1            1        1100.0  \n",
       "1             1            1        1100.0  \n",
       "2             1            0        1166.0  \n",
       "3             1            0        1400.0  \n",
       "4             1            0        1500.0  \n",
       "..          ...          ...           ...  \n",
       "995           6            3       70000.0  \n",
       "996           5            0       76000.0  \n",
       "997           5            3       80000.0  \n",
       "998           6            3       90000.0  \n",
       "999           6            3       96000.0  \n",
       "\n",
       "[1000 rows x 8 columns]"
      ]
     },
     "execution_count": 174,
     "metadata": {},
     "output_type": "execute_result"
    }
   ],
   "source": [
    "df=pd.read_csv(\"D:\\Machine learning\\lab\\HousePrices.csv\") \n",
    "#importing the dataset\n",
    "df"
   ]
  },
  {
   "cell_type": "code",
   "execution_count": 4,
   "id": "d648fd01",
   "metadata": {},
   "outputs": [],
   "source": [
    "for i in df['Location']:\n",
    "    if i!=\"School Street\" and i!=\"Clubview Road\" and i!=\"Starter Homes\":\n",
    "        df[\"Location\"].replace({i:'Portofino'},inplace=True)"
   ]
  },
  {
   "cell_type": "code",
   "execution_count": 5,
   "id": "f54571a0",
   "metadata": {},
   "outputs": [
    {
     "data": {
      "text/html": [
       "<div>\n",
       "<style scoped>\n",
       "    .dataframe tbody tr th:only-of-type {\n",
       "        vertical-align: middle;\n",
       "    }\n",
       "\n",
       "    .dataframe tbody tr th {\n",
       "        vertical-align: top;\n",
       "    }\n",
       "\n",
       "    .dataframe thead th {\n",
       "        text-align: right;\n",
       "    }\n",
       "</style>\n",
       "<table border=\"1\" class=\"dataframe\">\n",
       "  <thead>\n",
       "    <tr style=\"text-align: right;\">\n",
       "      <th></th>\n",
       "      <th>BuildingType</th>\n",
       "      <th>Location</th>\n",
       "      <th>Size</th>\n",
       "      <th>AreaSqFt</th>\n",
       "      <th>NoOfBath</th>\n",
       "      <th>NoOfPeople</th>\n",
       "      <th>NoOfBalcony</th>\n",
       "      <th>RentPerMonth</th>\n",
       "    </tr>\n",
       "  </thead>\n",
       "  <tbody>\n",
       "    <tr>\n",
       "      <th>0</th>\n",
       "      <td>Minimum Budget Rooms</td>\n",
       "      <td>Portofino</td>\n",
       "      <td>1 BHK</td>\n",
       "      <td>400.0</td>\n",
       "      <td>1</td>\n",
       "      <td>1</td>\n",
       "      <td>1</td>\n",
       "      <td>1100.0</td>\n",
       "    </tr>\n",
       "    <tr>\n",
       "      <th>1</th>\n",
       "      <td>Minimum Budget Rooms</td>\n",
       "      <td>Portofino</td>\n",
       "      <td>1 BHK</td>\n",
       "      <td>450.0</td>\n",
       "      <td>1</td>\n",
       "      <td>1</td>\n",
       "      <td>1</td>\n",
       "      <td>1100.0</td>\n",
       "    </tr>\n",
       "    <tr>\n",
       "      <th>2</th>\n",
       "      <td>Minimum Budget Rooms</td>\n",
       "      <td>School Street</td>\n",
       "      <td>1 BHK</td>\n",
       "      <td>530.0</td>\n",
       "      <td>1</td>\n",
       "      <td>1</td>\n",
       "      <td>0</td>\n",
       "      <td>1166.0</td>\n",
       "    </tr>\n",
       "    <tr>\n",
       "      <th>3</th>\n",
       "      <td>Minimum Budget Rooms</td>\n",
       "      <td>Portofino</td>\n",
       "      <td>1 BHK</td>\n",
       "      <td>400.0</td>\n",
       "      <td>1</td>\n",
       "      <td>1</td>\n",
       "      <td>0</td>\n",
       "      <td>1400.0</td>\n",
       "    </tr>\n",
       "    <tr>\n",
       "      <th>4</th>\n",
       "      <td>Minimum Budget Rooms</td>\n",
       "      <td>School Street</td>\n",
       "      <td>2 BHK</td>\n",
       "      <td>460.0</td>\n",
       "      <td>1</td>\n",
       "      <td>1</td>\n",
       "      <td>0</td>\n",
       "      <td>1500.0</td>\n",
       "    </tr>\n",
       "  </tbody>\n",
       "</table>\n",
       "</div>"
      ],
      "text/plain": [
       "           BuildingType       Location   Size  AreaSqFt  NoOfBath  NoOfPeople  \\\n",
       "0  Minimum Budget Rooms      Portofino  1 BHK     400.0         1           1   \n",
       "1  Minimum Budget Rooms      Portofino  1 BHK     450.0         1           1   \n",
       "2  Minimum Budget Rooms  School Street  1 BHK     530.0         1           1   \n",
       "3  Minimum Budget Rooms      Portofino  1 BHK     400.0         1           1   \n",
       "4  Minimum Budget Rooms  School Street  2 BHK     460.0         1           1   \n",
       "\n",
       "   NoOfBalcony  RentPerMonth  \n",
       "0            1        1100.0  \n",
       "1            1        1100.0  \n",
       "2            0        1166.0  \n",
       "3            0        1400.0  \n",
       "4            0        1500.0  "
      ]
     },
     "execution_count": 5,
     "metadata": {},
     "output_type": "execute_result"
    }
   ],
   "source": [
    "df.head()"
   ]
  },
  {
   "cell_type": "code",
   "execution_count": 6,
   "id": "223bb7fb",
   "metadata": {},
   "outputs": [
    {
     "data": {
      "text/html": [
       "<div>\n",
       "<style scoped>\n",
       "    .dataframe tbody tr th:only-of-type {\n",
       "        vertical-align: middle;\n",
       "    }\n",
       "\n",
       "    .dataframe tbody tr th {\n",
       "        vertical-align: top;\n",
       "    }\n",
       "\n",
       "    .dataframe thead th {\n",
       "        text-align: right;\n",
       "    }\n",
       "</style>\n",
       "<table border=\"1\" class=\"dataframe\">\n",
       "  <thead>\n",
       "    <tr style=\"text-align: right;\">\n",
       "      <th></th>\n",
       "      <th>BuildingType</th>\n",
       "      <th>Location</th>\n",
       "      <th>Size</th>\n",
       "      <th>AreaSqFt</th>\n",
       "      <th>NoOfBath</th>\n",
       "      <th>NoOfPeople</th>\n",
       "      <th>NoOfBalcony</th>\n",
       "      <th>RentPerMonth</th>\n",
       "    </tr>\n",
       "  </thead>\n",
       "  <tbody>\n",
       "    <tr>\n",
       "      <th>995</th>\n",
       "      <td>Super Furnished Villa</td>\n",
       "      <td>Portofino</td>\n",
       "      <td>4 BHK</td>\n",
       "      <td>4900.0</td>\n",
       "      <td>4</td>\n",
       "      <td>6</td>\n",
       "      <td>3</td>\n",
       "      <td>70000.0</td>\n",
       "    </tr>\n",
       "    <tr>\n",
       "      <th>996</th>\n",
       "      <td>Super Furnished Villa</td>\n",
       "      <td>Portofino</td>\n",
       "      <td>4 BHK</td>\n",
       "      <td>3750.0</td>\n",
       "      <td>4</td>\n",
       "      <td>5</td>\n",
       "      <td>0</td>\n",
       "      <td>76000.0</td>\n",
       "    </tr>\n",
       "    <tr>\n",
       "      <th>997</th>\n",
       "      <td>Super Furnished Villa</td>\n",
       "      <td>School Street</td>\n",
       "      <td>4 BHK</td>\n",
       "      <td>5270.0</td>\n",
       "      <td>4</td>\n",
       "      <td>5</td>\n",
       "      <td>3</td>\n",
       "      <td>80000.0</td>\n",
       "    </tr>\n",
       "    <tr>\n",
       "      <th>998</th>\n",
       "      <td>Super Furnished Villa</td>\n",
       "      <td>Portofino</td>\n",
       "      <td>6 BHK</td>\n",
       "      <td>5100.0</td>\n",
       "      <td>7</td>\n",
       "      <td>6</td>\n",
       "      <td>3</td>\n",
       "      <td>90000.0</td>\n",
       "    </tr>\n",
       "    <tr>\n",
       "      <th>999</th>\n",
       "      <td>Super Furnished Villa</td>\n",
       "      <td>Portofino</td>\n",
       "      <td>7 BHK</td>\n",
       "      <td>6300.0</td>\n",
       "      <td>6</td>\n",
       "      <td>6</td>\n",
       "      <td>3</td>\n",
       "      <td>96000.0</td>\n",
       "    </tr>\n",
       "  </tbody>\n",
       "</table>\n",
       "</div>"
      ],
      "text/plain": [
       "              BuildingType       Location   Size  AreaSqFt  NoOfBath  \\\n",
       "995  Super Furnished Villa      Portofino  4 BHK    4900.0         4   \n",
       "996  Super Furnished Villa      Portofino  4 BHK    3750.0         4   \n",
       "997  Super Furnished Villa  School Street  4 BHK    5270.0         4   \n",
       "998  Super Furnished Villa      Portofino  6 BHK    5100.0         7   \n",
       "999  Super Furnished Villa      Portofino  7 BHK    6300.0         6   \n",
       "\n",
       "     NoOfPeople  NoOfBalcony  RentPerMonth  \n",
       "995           6            3       70000.0  \n",
       "996           5            0       76000.0  \n",
       "997           5            3       80000.0  \n",
       "998           6            3       90000.0  \n",
       "999           6            3       96000.0  "
      ]
     },
     "execution_count": 6,
     "metadata": {},
     "output_type": "execute_result"
    }
   ],
   "source": [
    "df.tail()"
   ]
  },
  {
   "cell_type": "code",
   "execution_count": 7,
   "id": "ad2c318c",
   "metadata": {
    "scrolled": true
   },
   "outputs": [
    {
     "data": {
      "text/html": [
       "<div>\n",
       "<style scoped>\n",
       "    .dataframe tbody tr th:only-of-type {\n",
       "        vertical-align: middle;\n",
       "    }\n",
       "\n",
       "    .dataframe tbody tr th {\n",
       "        vertical-align: top;\n",
       "    }\n",
       "\n",
       "    .dataframe thead th {\n",
       "        text-align: right;\n",
       "    }\n",
       "</style>\n",
       "<table border=\"1\" class=\"dataframe\">\n",
       "  <thead>\n",
       "    <tr style=\"text-align: right;\">\n",
       "      <th></th>\n",
       "      <th>AreaSqFt</th>\n",
       "      <th>NoOfBath</th>\n",
       "      <th>NoOfPeople</th>\n",
       "      <th>NoOfBalcony</th>\n",
       "      <th>RentPerMonth</th>\n",
       "    </tr>\n",
       "  </thead>\n",
       "  <tbody>\n",
       "    <tr>\n",
       "      <th>count</th>\n",
       "      <td>1000.000000</td>\n",
       "      <td>1000.000000</td>\n",
       "      <td>1000.000000</td>\n",
       "      <td>1000.000000</td>\n",
       "      <td>1000.000000</td>\n",
       "    </tr>\n",
       "    <tr>\n",
       "      <th>mean</th>\n",
       "      <td>1548.270010</td>\n",
       "      <td>2.661000</td>\n",
       "      <td>2.168000</td>\n",
       "      <td>1.544000</td>\n",
       "      <td>10476.633500</td>\n",
       "    </tr>\n",
       "    <tr>\n",
       "      <th>std</th>\n",
       "      <td>1345.141175</td>\n",
       "      <td>1.247251</td>\n",
       "      <td>0.959529</td>\n",
       "      <td>0.838312</td>\n",
       "      <td>10509.508971</td>\n",
       "    </tr>\n",
       "    <tr>\n",
       "      <th>min</th>\n",
       "      <td>375.000000</td>\n",
       "      <td>1.000000</td>\n",
       "      <td>1.000000</td>\n",
       "      <td>0.000000</td>\n",
       "      <td>1100.000000</td>\n",
       "    </tr>\n",
       "    <tr>\n",
       "      <th>25%</th>\n",
       "      <td>1090.000000</td>\n",
       "      <td>2.000000</td>\n",
       "      <td>2.000000</td>\n",
       "      <td>1.000000</td>\n",
       "      <td>4890.500000</td>\n",
       "    </tr>\n",
       "    <tr>\n",
       "      <th>50%</th>\n",
       "      <td>1270.000000</td>\n",
       "      <td>2.000000</td>\n",
       "      <td>2.000000</td>\n",
       "      <td>2.000000</td>\n",
       "      <td>7000.000000</td>\n",
       "    </tr>\n",
       "    <tr>\n",
       "      <th>75%</th>\n",
       "      <td>1664.250000</td>\n",
       "      <td>3.000000</td>\n",
       "      <td>2.000000</td>\n",
       "      <td>2.000000</td>\n",
       "      <td>11925.000000</td>\n",
       "    </tr>\n",
       "    <tr>\n",
       "      <th>max</th>\n",
       "      <td>35000.000000</td>\n",
       "      <td>11.000000</td>\n",
       "      <td>6.000000</td>\n",
       "      <td>3.000000</td>\n",
       "      <td>96000.000000</td>\n",
       "    </tr>\n",
       "  </tbody>\n",
       "</table>\n",
       "</div>"
      ],
      "text/plain": [
       "           AreaSqFt     NoOfBath   NoOfPeople  NoOfBalcony  RentPerMonth\n",
       "count   1000.000000  1000.000000  1000.000000  1000.000000   1000.000000\n",
       "mean    1548.270010     2.661000     2.168000     1.544000  10476.633500\n",
       "std     1345.141175     1.247251     0.959529     0.838312  10509.508971\n",
       "min      375.000000     1.000000     1.000000     0.000000   1100.000000\n",
       "25%     1090.000000     2.000000     2.000000     1.000000   4890.500000\n",
       "50%     1270.000000     2.000000     2.000000     2.000000   7000.000000\n",
       "75%     1664.250000     3.000000     2.000000     2.000000  11925.000000\n",
       "max    35000.000000    11.000000     6.000000     3.000000  96000.000000"
      ]
     },
     "execution_count": 7,
     "metadata": {},
     "output_type": "execute_result"
    }
   ],
   "source": [
    "df.describe()"
   ]
  },
  {
   "cell_type": "code",
   "execution_count": 8,
   "id": "bd54c914",
   "metadata": {},
   "outputs": [
    {
     "data": {
      "text/plain": [
       "Portofino        640\n",
       "Clubview Road    213\n",
       "School Street    138\n",
       "Starter Homes      9\n",
       "Name: Location, dtype: int64"
      ]
     },
     "execution_count": 8,
     "metadata": {},
     "output_type": "execute_result"
    }
   ],
   "source": [
    "df['Location'].value_counts()"
   ]
  },
  {
   "cell_type": "code",
   "execution_count": 9,
   "id": "e5b88d4c",
   "metadata": {},
   "outputs": [
    {
     "data": {
      "text/plain": [
       "2 BHK    429\n",
       "3 BHK    353\n",
       "4 BHK    103\n",
       "1 BHK     51\n",
       "5 BHK     22\n",
       "6 BHK     21\n",
       "8 BHK      8\n",
       "7 BHK      7\n",
       "9 BHK      4\n",
       "1 RK       2\n",
       "Name: Size, dtype: int64"
      ]
     },
     "execution_count": 9,
     "metadata": {},
     "output_type": "execute_result"
    }
   ],
   "source": [
    "df['Size'].value_counts()"
   ]
  },
  {
   "cell_type": "code",
   "execution_count": 10,
   "id": "c4048009",
   "metadata": {},
   "outputs": [
    {
     "data": {
      "text/plain": [
       "2    574\n",
       "1    192\n",
       "3    165\n",
       "4     27\n",
       "5     27\n",
       "6     15\n",
       "Name: NoOfPeople, dtype: int64"
      ]
     },
     "execution_count": 10,
     "metadata": {},
     "output_type": "execute_result"
    }
   ],
   "source": [
    "df['NoOfPeople'].value_counts()"
   ]
  },
  {
   "cell_type": "markdown",
   "id": "739d12cd",
   "metadata": {},
   "source": [
    "## Distplot\n",
    "Syntax:<br>\n",
    "seaborn.distplot(a=None, bins=None, hist=True, kde=True, rug=False, fit=None, hist_kws=None, kde_kws=None, rug_kws=None, fit_kws=None, color=None, vertical=False, norm_hist=False, axlabel=None, label=None, ax=None, x=None)"
   ]
  },
  {
   "cell_type": "code",
   "execution_count": 9,
   "id": "1cdafb51",
   "metadata": {},
   "outputs": [
    {
     "data": {
      "image/png": "[encoded data removed]",
      "text/plain": [
       "<Figure size 432x288 with 4 Axes>"
      ]
     },
     "metadata": {
      "needs_background": "light"
     },
     "output_type": "display_data"
    }
   ],
   "source": [
    "names = [\"AreaSqFt\",\"NoOfBath\",\"NoOfPeople\",\"NoOfBalcony\"]\n",
    "f, axes = mlp.subplots(2, 2)\n",
    "y = 0;\n",
    "for name in names: \n",
    "    i, j = divmod(y, 2) #Dividing the plot into 4 and assinging value to each.\n",
    "    sns.distplot(x=df[name], ax=axes[i, j])\n",
    "    y = y + 1\n",
    "mlp.tight_layout()\n",
    "mlp.show()"
   ]
  },
  {
   "cell_type": "markdown",
   "id": "1eca0472",
   "metadata": {},
   "source": [
    "The distplot represents the univariate distribution of data i.e. data distribution of a variable against the density distribution.\n",
    "Here we are plotting numerical values. Four columns are plottedi in a single graph.From looking this we can understand the densiy accumulation of the features."
   ]
  },
  {
   "cell_type": "markdown",
   "id": "eafdcc7c",
   "metadata": {},
   "source": [
    "## Jointplot\n",
    "Syntax:\n",
    "seaborn.jointplot(*, x=None, y=None, data=None, kind='scatter', color=None, height=6, ratio=5, space=0.2, dropna=False, xlim=None, ylim=None, marginal_ticks=False, joint_kws=None, marginal_kws=None, hue=None, palette=None, hue_order=None, hue_norm=None, **kwargs)"
   ]
  },
  {
   "cell_type": "code",
   "execution_count": 23,
   "id": "46ffc42b",
   "metadata": {},
   "outputs": [
    {
     "data": {
      "text/plain": [
       "<seaborn.axisgrid.JointGrid at 0x1dfd5f67640>"
      ]
     },
     "execution_count": 23,
     "metadata": {},
     "output_type": "execute_result"
    },
    {
     "data": {
      "image/png": "[encoded data removed]",
      "text/plain": [
       "<Figure size 432x432 with 3 Axes>"
      ]
     },
     "metadata": {
      "needs_background": "light"
     },
     "output_type": "display_data"
    }
   ],
   "source": [
    "sns.jointplot(data=df, x=\"NoOfBath\",y=\"NoOfPeople\",kind='kde')"
   ]
  },
  {
   "cell_type": "code",
   "execution_count": 24,
   "id": "85a5e676",
   "metadata": {},
   "outputs": [
    {
     "data": {
      "text/plain": [
       "<seaborn.axisgrid.JointGrid at 0x1dfd75064c0>"
      ]
     },
     "execution_count": 24,
     "metadata": {},
     "output_type": "execute_result"
    },
    {
     "data": {
      "image/png": "[encoded data removed]",
      "text/plain": [
       "<Figure size 432x432 with 3 Axes>"
      ]
     },
     "metadata": {
      "needs_background": "light"
     },
     "output_type": "display_data"
    }
   ],
   "source": [
    "sns.jointplot(data=df, x=\"NoOfBath\",y=\"NoOfPeople\")"
   ]
  },
  {
   "cell_type": "markdown",
   "id": "fc670492",
   "metadata": {},
   "source": [
    "The jointplot is used to display the mutual distribution of each column. You need to pass three parameters to jointplot. The first parameter is the column name for which you want to display the distribution of data on x-axis. The second parameter is the column name for which you want to display the distribution of data on y-axis. Finally, the third parameter is the name of the data frame.\n"
   ]
  },
  {
   "cell_type": "markdown",
   "id": "a03c9730",
   "metadata": {},
   "source": [
    "## Pairplot\n",
    "Syntax:<br>\n",
    "seaborn.pairplot(data, *, hue=None, hue_order=None, palette=None, vars=None, x_vars=None, y_vars=None, kind='scatter', diag_kind='auto', markers=None, height=2.5, aspect=1, corner=False, dropna=False, plot_kws=None, diag_kws=None, grid_kws=None, size=None)"
   ]
  },
  {
   "cell_type": "code",
   "execution_count": 25,
   "id": "79d614ef",
   "metadata": {},
   "outputs": [
    {
     "data": {
      "text/plain": [
       "<seaborn.axisgrid.PairGrid at 0x1dfd75d7310>"
      ]
     },
     "execution_count": 25,
     "metadata": {},
     "output_type": "execute_result"
    },
    {
     "data": {
      "image/png": "[encoded data removed]",
      "text/plain": [
       "<Figure size 900x900 with 30 Axes>"
      ]
     },
     "metadata": {
      "needs_background": "light"
     },
     "output_type": "display_data"
    }
   ],
   "source": [
    "g = sns.PairGrid(df)\n",
    "g.map_upper(sns.scatterplot,color='purple')\n",
    "g.map_lower(sns.scatterplot, color='pink')\n",
    "g.map_diag(mlp.hist)"
   ]
  },
  {
   "cell_type": "markdown",
   "id": "17476229",
   "metadata": {},
   "source": [
    "To plot multiple pairwise bivariate distributions in a dataset, you can use the pairplot() function. This shows the relationship for (n, 2) combination of variable in a DataFrame as a matrix of plots and the diagonal plots are the univariate plots.\n",
    "\n",
    "Here all combination are plotted in scatterplot and the density of each plot is plotted as diagnol using histogram."
   ]
  },
  {
   "cell_type": "markdown",
   "id": "226a38c5",
   "metadata": {},
   "source": [
    "## Catplot\n",
    "Syntax:\n",
    "seaborn.catplot(*, x=None, y=None, hue=None, data=None, row=None, col=None, col_wrap=None, estimator=<function mean at 0x7ff320f315e0>, ci=95, n_boot=1000, units=None, seed=None, order=None, hue_order=None, row_order=None, col_order=None, kind='strip', height=5, aspect=1, orient=None, color=None, palette=None, legend=True, legend_out=True, sharex=True, sharey=True, margin_titles=False, facet_kws=None, **kwargs)"
   ]
  },
  {
   "cell_type": "code",
   "execution_count": 26,
   "id": "61a46098",
   "metadata": {
    "scrolled": true
   },
   "outputs": [
    {
     "data": {
      "image/png": "[encoded data removed]",
      "text/plain": [
       "<Figure size 432x288 with 4 Axes>"
      ]
     },
     "metadata": {
      "needs_background": "light"
     },
     "output_type": "display_data"
    }
   ],
   "source": [
    "names = [\"AreaSqFt\",\"NoOfBath\",\"NoOfPeople\",\"NoOfBalcony\"]\n",
    "f, axes = mlp.subplots(2, 2)\n",
    "y = 0;\n",
    "for name in names: #graph of the summary of the f\n",
    "    i, j = divmod(y, 2)\n",
    "    sns.countplot(x=df[name], ax=axes[i, j])\n",
    "    y = y + 1\n",
    "mlp.tight_layout()\n",
    "mlp.show()"
   ]
  },
  {
   "cell_type": "markdown",
   "id": "39674e8b",
   "metadata": {},
   "source": [
    "Figure-level interface for drawing categorical plots onto a FacetGrid. This function provides access to several axes-level functions that show the relationship between a numerical and one or more categorical variables using one of several visual representations."
   ]
  },
  {
   "cell_type": "markdown",
   "id": "18d574cc",
   "metadata": {},
   "source": [
    "## Barplot\n",
    "Syntax:<br>\n",
    "seaborn.barplot(*, x=None, y=None, hue=None, data=None, order=None, hue_order=None, estimator=<function mean at 0x7ff320f315e0>, ci=95, n_boot=1000, units=None, seed=None, orient=None, color=None, palette=None, saturation=0.75, errcolor='.26', errwidth=None, capsize=None, dodge=True, ax=None, **kwargs)"
   ]
  },
  {
   "cell_type": "code",
   "execution_count": 27,
   "id": "9a1444d6",
   "metadata": {},
   "outputs": [
    {
     "data": {
      "text/plain": [
       "<AxesSubplot:xlabel='Location', ylabel='RentPerMonth'>"
      ]
     },
     "execution_count": 27,
     "metadata": {},
     "output_type": "execute_result"
    },
    {
     "data": {
      "image/png": "[encoded data removed]",
      "text/plain": [
       "<Figure size 432x288 with 1 Axes>"
      ]
     },
     "metadata": {
      "needs_background": "light"
     },
     "output_type": "display_data"
    }
   ],
   "source": [
    "sns.barplot(x=\"Location\",y=\"RentPerMonth\",data=df)\n"
   ]
  },
  {
   "cell_type": "markdown",
   "id": "c15cfbe6",
   "metadata": {},
   "source": [
    "Barplot is used to display the relationship between a numeric and a categorical variable.It is also important to keep in mind that a bar plot shows only the mean (or other estimator) value, but in many cases it may be more informative to show the distribution of values at each level of the categorical variables.\n"
   ]
  },
  {
   "cell_type": "markdown",
   "id": "00f23f8c",
   "metadata": {},
   "source": [
    "## Countplot\n",
    "Syntax:<br>\n",
    "seaborn.countplot(*, x=None, y=None, hue=None, data=None, order=None, hue_order=None, orient=None, color=None, palette=None, saturation=0.75, dodge=True, ax=None, **kwargs)"
   ]
  },
  {
   "cell_type": "code",
   "execution_count": 28,
   "id": "c30e3255",
   "metadata": {
    "scrolled": false
   },
   "outputs": [
    {
     "data": {
      "text/plain": [
       "<AxesSubplot:xlabel='Location', ylabel='count'>"
      ]
     },
     "execution_count": 28,
     "metadata": {},
     "output_type": "execute_result"
    },
    {
     "data": {
      "image/png": "[encoded data removed]",
      "text/plain": [
       "<Figure size 432x288 with 1 Axes>"
      ]
     },
     "metadata": {
      "needs_background": "light"
     },
     "output_type": "display_data"
    }
   ],
   "source": [
    "sns.countplot(data=df,x=\"Location\")"
   ]
  },
  {
   "cell_type": "markdown",
   "id": "2585a8c4",
   "metadata": {},
   "source": [
    "Here by using the label encoding we are changing the categorical value into labels which are numerical values so as to divide the dataset and do the regression analysis."
   ]
  },
  {
   "cell_type": "code",
   "execution_count": 14,
   "id": "df1d81ab",
   "metadata": {
    "scrolled": false
   },
   "outputs": [
    {
     "data": {
      "text/html": [
       "<div>\n",
       "<style scoped>\n",
       "    .dataframe tbody tr th:only-of-type {\n",
       "        vertical-align: middle;\n",
       "    }\n",
       "\n",
       "    .dataframe tbody tr th {\n",
       "        vertical-align: top;\n",
       "    }\n",
       "\n",
       "    .dataframe thead th {\n",
       "        text-align: right;\n",
       "    }\n",
       "</style>\n",
       "<table border=\"1\" class=\"dataframe\">\n",
       "  <thead>\n",
       "    <tr style=\"text-align: right;\">\n",
       "      <th></th>\n",
       "      <th>BuildingType</th>\n",
       "      <th>Location</th>\n",
       "      <th>Size</th>\n",
       "      <th>AreaSqFt</th>\n",
       "      <th>NoOfBath</th>\n",
       "      <th>NoOfPeople</th>\n",
       "      <th>NoOfBalcony</th>\n",
       "      <th>RentPerMonth</th>\n",
       "    </tr>\n",
       "  </thead>\n",
       "  <tbody>\n",
       "    <tr>\n",
       "      <th>0</th>\n",
       "      <td>3</td>\n",
       "      <td>1</td>\n",
       "      <td>0</td>\n",
       "      <td>400.0</td>\n",
       "      <td>1</td>\n",
       "      <td>1</td>\n",
       "      <td>1</td>\n",
       "      <td>1100.0</td>\n",
       "    </tr>\n",
       "    <tr>\n",
       "      <th>1</th>\n",
       "      <td>3</td>\n",
       "      <td>1</td>\n",
       "      <td>0</td>\n",
       "      <td>450.0</td>\n",
       "      <td>1</td>\n",
       "      <td>1</td>\n",
       "      <td>1</td>\n",
       "      <td>1100.0</td>\n",
       "    </tr>\n",
       "    <tr>\n",
       "      <th>2</th>\n",
       "      <td>3</td>\n",
       "      <td>2</td>\n",
       "      <td>0</td>\n",
       "      <td>530.0</td>\n",
       "      <td>1</td>\n",
       "      <td>1</td>\n",
       "      <td>0</td>\n",
       "      <td>1166.0</td>\n",
       "    </tr>\n",
       "    <tr>\n",
       "      <th>3</th>\n",
       "      <td>3</td>\n",
       "      <td>1</td>\n",
       "      <td>0</td>\n",
       "      <td>400.0</td>\n",
       "      <td>1</td>\n",
       "      <td>1</td>\n",
       "      <td>0</td>\n",
       "      <td>1400.0</td>\n",
       "    </tr>\n",
       "    <tr>\n",
       "      <th>4</th>\n",
       "      <td>3</td>\n",
       "      <td>2</td>\n",
       "      <td>2</td>\n",
       "      <td>460.0</td>\n",
       "      <td>1</td>\n",
       "      <td>1</td>\n",
       "      <td>0</td>\n",
       "      <td>1500.0</td>\n",
       "    </tr>\n",
       "    <tr>\n",
       "      <th>...</th>\n",
       "      <td>...</td>\n",
       "      <td>...</td>\n",
       "      <td>...</td>\n",
       "      <td>...</td>\n",
       "      <td>...</td>\n",
       "      <td>...</td>\n",
       "      <td>...</td>\n",
       "      <td>...</td>\n",
       "    </tr>\n",
       "    <tr>\n",
       "      <th>995</th>\n",
       "      <td>9</td>\n",
       "      <td>1</td>\n",
       "      <td>4</td>\n",
       "      <td>4900.0</td>\n",
       "      <td>4</td>\n",
       "      <td>6</td>\n",
       "      <td>3</td>\n",
       "      <td>70000.0</td>\n",
       "    </tr>\n",
       "    <tr>\n",
       "      <th>996</th>\n",
       "      <td>9</td>\n",
       "      <td>1</td>\n",
       "      <td>4</td>\n",
       "      <td>3750.0</td>\n",
       "      <td>4</td>\n",
       "      <td>5</td>\n",
       "      <td>0</td>\n",
       "      <td>76000.0</td>\n",
       "    </tr>\n",
       "    <tr>\n",
       "      <th>997</th>\n",
       "      <td>9</td>\n",
       "      <td>2</td>\n",
       "      <td>4</td>\n",
       "      <td>5270.0</td>\n",
       "      <td>4</td>\n",
       "      <td>5</td>\n",
       "      <td>3</td>\n",
       "      <td>80000.0</td>\n",
       "    </tr>\n",
       "    <tr>\n",
       "      <th>998</th>\n",
       "      <td>9</td>\n",
       "      <td>1</td>\n",
       "      <td>6</td>\n",
       "      <td>5100.0</td>\n",
       "      <td>7</td>\n",
       "      <td>6</td>\n",
       "      <td>3</td>\n",
       "      <td>90000.0</td>\n",
       "    </tr>\n",
       "    <tr>\n",
       "      <th>999</th>\n",
       "      <td>9</td>\n",
       "      <td>1</td>\n",
       "      <td>7</td>\n",
       "      <td>6300.0</td>\n",
       "      <td>6</td>\n",
       "      <td>6</td>\n",
       "      <td>3</td>\n",
       "      <td>96000.0</td>\n",
       "    </tr>\n",
       "  </tbody>\n",
       "</table>\n",
       "<p>1000 rows × 8 columns</p>\n",
       "</div>"
      ],
      "text/plain": [
       "     BuildingType  Location  Size  AreaSqFt  NoOfBath  NoOfPeople  \\\n",
       "0               3         1     0     400.0         1           1   \n",
       "1               3         1     0     450.0         1           1   \n",
       "2               3         2     0     530.0         1           1   \n",
       "3               3         1     0     400.0         1           1   \n",
       "4               3         2     2     460.0         1           1   \n",
       "..            ...       ...   ...       ...       ...         ...   \n",
       "995             9         1     4    4900.0         4           6   \n",
       "996             9         1     4    3750.0         4           5   \n",
       "997             9         2     4    5270.0         4           5   \n",
       "998             9         1     6    5100.0         7           6   \n",
       "999             9         1     7    6300.0         6           6   \n",
       "\n",
       "     NoOfBalcony  RentPerMonth  \n",
       "0              1        1100.0  \n",
       "1              1        1100.0  \n",
       "2              0        1166.0  \n",
       "3              0        1400.0  \n",
       "4              0        1500.0  \n",
       "..           ...           ...  \n",
       "995            3       70000.0  \n",
       "996            0       76000.0  \n",
       "997            3       80000.0  \n",
       "998            3       90000.0  \n",
       "999            3       96000.0  \n",
       "\n",
       "[1000 rows x 8 columns]"
      ]
     },
     "execution_count": 14,
     "metadata": {},
     "output_type": "execute_result"
    }
   ],
   "source": [
    "from sklearn.preprocessing import LabelEncoder\n",
    "le = LabelEncoder()\n",
    "df['BuildingType']=le.fit_transform(df['BuildingType'])\n",
    "df['Location']=le.fit_transform(df['Location'])\n",
    "df['Size']=le.fit_transform(df['Size'])\n",
    "df\n",
    "\n"
   ]
  },
  {
   "cell_type": "code",
   "execution_count": 15,
   "id": "bfda06bc",
   "metadata": {},
   "outputs": [],
   "source": [
    "X=df[[\"BuildingType\",\"Location\",\"Size\",\"AreaSqFt\",\n",
    "      \"NoOfBath\",\"NoOfPeople\",\"NoOfBalcony\"]]\n",
    "y=df[\"RentPerMonth\"]                             #splitting the dataset"
   ]
  },
  {
   "cell_type": "markdown",
   "id": "27eaa985",
   "metadata": {},
   "source": [
    "<b>Coding</b>"
   ]
  },
  {
   "cell_type": "markdown",
   "id": "b4dd59ed",
   "metadata": {},
   "source": [
    "<b>70:30</b>"
   ]
  },
  {
   "cell_type": "code",
   "execution_count": 16,
   "id": "b2954e72",
   "metadata": {},
   "outputs": [],
   "source": [
    "X_train,X_test,y_train,y_test=train_test_split(X,y,test_size=0.3)"
   ]
  },
  {
   "cell_type": "code",
   "execution_count": 17,
   "id": "b9e3977c",
   "metadata": {},
   "outputs": [
    {
     "data": {
      "text/html": [
       "<div>\n",
       "<style scoped>\n",
       "    .dataframe tbody tr th:only-of-type {\n",
       "        vertical-align: middle;\n",
       "    }\n",
       "\n",
       "    .dataframe tbody tr th {\n",
       "        vertical-align: top;\n",
       "    }\n",
       "\n",
       "    .dataframe thead th {\n",
       "        text-align: right;\n",
       "    }\n",
       "</style>\n",
       "<table border=\"1\" class=\"dataframe\">\n",
       "  <thead>\n",
       "    <tr style=\"text-align: right;\">\n",
       "      <th></th>\n",
       "      <th>BuildingType</th>\n",
       "      <th>Location</th>\n",
       "      <th>Size</th>\n",
       "      <th>AreaSqFt</th>\n",
       "      <th>NoOfBath</th>\n",
       "      <th>NoOfPeople</th>\n",
       "      <th>NoOfBalcony</th>\n",
       "    </tr>\n",
       "  </thead>\n",
       "  <tbody>\n",
       "    <tr>\n",
       "      <th>874</th>\n",
       "      <td>6</td>\n",
       "      <td>1</td>\n",
       "      <td>5</td>\n",
       "      <td>1800.0</td>\n",
       "      <td>4</td>\n",
       "      <td>2</td>\n",
       "      <td>3</td>\n",
       "    </tr>\n",
       "    <tr>\n",
       "      <th>954</th>\n",
       "      <td>0</td>\n",
       "      <td>1</td>\n",
       "      <td>4</td>\n",
       "      <td>3670.0</td>\n",
       "      <td>4</td>\n",
       "      <td>5</td>\n",
       "      <td>3</td>\n",
       "    </tr>\n",
       "    <tr>\n",
       "      <th>394</th>\n",
       "      <td>5</td>\n",
       "      <td>1</td>\n",
       "      <td>2</td>\n",
       "      <td>1195.0</td>\n",
       "      <td>2</td>\n",
       "      <td>2</td>\n",
       "      <td>0</td>\n",
       "    </tr>\n",
       "    <tr>\n",
       "      <th>260</th>\n",
       "      <td>5</td>\n",
       "      <td>1</td>\n",
       "      <td>2</td>\n",
       "      <td>1019.0</td>\n",
       "      <td>2</td>\n",
       "      <td>1</td>\n",
       "      <td>2</td>\n",
       "    </tr>\n",
       "    <tr>\n",
       "      <th>848</th>\n",
       "      <td>4</td>\n",
       "      <td>1</td>\n",
       "      <td>6</td>\n",
       "      <td>3600.0</td>\n",
       "      <td>4</td>\n",
       "      <td>3</td>\n",
       "      <td>1</td>\n",
       "    </tr>\n",
       "    <tr>\n",
       "      <th>...</th>\n",
       "      <td>...</td>\n",
       "      <td>...</td>\n",
       "      <td>...</td>\n",
       "      <td>...</td>\n",
       "      <td>...</td>\n",
       "      <td>...</td>\n",
       "      <td>...</td>\n",
       "    </tr>\n",
       "    <tr>\n",
       "      <th>498</th>\n",
       "      <td>1</td>\n",
       "      <td>1</td>\n",
       "      <td>2</td>\n",
       "      <td>1150.0</td>\n",
       "      <td>2</td>\n",
       "      <td>2</td>\n",
       "      <td>1</td>\n",
       "    </tr>\n",
       "    <tr>\n",
       "      <th>891</th>\n",
       "      <td>0</td>\n",
       "      <td>1</td>\n",
       "      <td>4</td>\n",
       "      <td>2732.0</td>\n",
       "      <td>4</td>\n",
       "      <td>3</td>\n",
       "      <td>2</td>\n",
       "    </tr>\n",
       "    <tr>\n",
       "      <th>581</th>\n",
       "      <td>1</td>\n",
       "      <td>1</td>\n",
       "      <td>3</td>\n",
       "      <td>1550.0</td>\n",
       "      <td>2</td>\n",
       "      <td>2</td>\n",
       "      <td>3</td>\n",
       "    </tr>\n",
       "    <tr>\n",
       "      <th>174</th>\n",
       "      <td>5</td>\n",
       "      <td>1</td>\n",
       "      <td>2</td>\n",
       "      <td>1167.0</td>\n",
       "      <td>2</td>\n",
       "      <td>1</td>\n",
       "      <td>1</td>\n",
       "    </tr>\n",
       "    <tr>\n",
       "      <th>961</th>\n",
       "      <td>7</td>\n",
       "      <td>0</td>\n",
       "      <td>3</td>\n",
       "      <td>2480.0</td>\n",
       "      <td>3</td>\n",
       "      <td>5</td>\n",
       "      <td>1</td>\n",
       "    </tr>\n",
       "  </tbody>\n",
       "</table>\n",
       "<p>700 rows × 7 columns</p>\n",
       "</div>"
      ],
      "text/plain": [
       "     BuildingType  Location  Size  AreaSqFt  NoOfBath  NoOfPeople  NoOfBalcony\n",
       "874             6         1     5    1800.0         4           2            3\n",
       "954             0         1     4    3670.0         4           5            3\n",
       "394             5         1     2    1195.0         2           2            0\n",
       "260             5         1     2    1019.0         2           1            2\n",
       "848             4         1     6    3600.0         4           3            1\n",
       "..            ...       ...   ...       ...       ...         ...          ...\n",
       "498             1         1     2    1150.0         2           2            1\n",
       "891             0         1     4    2732.0         4           3            2\n",
       "581             1         1     3    1550.0         2           2            3\n",
       "174             5         1     2    1167.0         2           1            1\n",
       "961             7         0     3    2480.0         3           5            1\n",
       "\n",
       "[700 rows x 7 columns]"
      ]
     },
     "execution_count": 17,
     "metadata": {},
     "output_type": "execute_result"
    }
   ],
   "source": [
    "X_train"
   ]
  },
  {
   "cell_type": "code",
   "execution_count": 20,
   "id": "250d0e7b",
   "metadata": {},
   "outputs": [
    {
     "data": {
      "text/plain": [
       "784    13000.0\n",
       "712    10500.0\n",
       "832    15000.0\n",
       "642     9100.0\n",
       "232     4800.0\n",
       "        ...   \n",
       "167     4325.0\n",
       "13      1841.0\n",
       "191     4500.0\n",
       "982    46500.0\n",
       "126     4000.0\n",
       "Name: RentPerMonth, Length: 700, dtype: float64"
      ]
     },
     "execution_count": 20,
     "metadata": {},
     "output_type": "execute_result"
    }
   ],
   "source": [
    "y_train"
   ]
  },
  {
   "cell_type": "code",
   "execution_count": 29,
   "id": "3a0f113d",
   "metadata": {},
   "outputs": [],
   "source": [
    "model=LinearRegression()"
   ]
  },
  {
   "cell_type": "code",
   "execution_count": 30,
   "id": "cca80367",
   "metadata": {},
   "outputs": [
    {
     "data": {
      "text/plain": [
       "LinearRegression()"
      ]
     },
     "execution_count": 30,
     "metadata": {},
     "output_type": "execute_result"
    }
   ],
   "source": [
    "model.fit(X_train,y_train)"
   ]
  },
  {
   "cell_type": "code",
   "execution_count": 31,
   "id": "beae9c13",
   "metadata": {
    "scrolled": false
   },
   "outputs": [
    {
     "name": "stdout",
     "output_type": "stream",
     "text": [
      "intercept: -12979.825009181382\n"
     ]
    }
   ],
   "source": [
    "print('intercept:', model.intercept_)"
   ]
  },
  {
   "cell_type": "code",
   "execution_count": 32,
   "id": "9fb13918",
   "metadata": {},
   "outputs": [
    {
     "name": "stdout",
     "output_type": "stream",
     "text": [
      "slope: [ 5.75381462e+02 -4.87726681e+02 -6.62066452e+02  7.07810138e-01\n",
      "  2.89041956e+03  7.17096379e+03 -3.39746975e+02]\n"
     ]
    }
   ],
   "source": [
    "print('slope:', model.coef_)"
   ]
  },
  {
   "cell_type": "code",
   "execution_count": 33,
   "id": "589ad3f7",
   "metadata": {},
   "outputs": [],
   "source": [
    "r_Sq=model.score(X_test,y_test)"
   ]
  },
  {
   "cell_type": "code",
   "execution_count": 34,
   "id": "f2a31f99",
   "metadata": {},
   "outputs": [
    {
     "name": "stdout",
     "output_type": "stream",
     "text": [
      "Coefficient of determination:  0.7135472469405693\n"
     ]
    }
   ],
   "source": [
    "print(\"Coefficient of determination: \",r_Sq)"
   ]
  },
  {
   "cell_type": "code",
   "execution_count": 35,
   "id": "f271834f",
   "metadata": {
    "scrolled": false
   },
   "outputs": [
    {
     "name": "stdout",
     "output_type": "stream",
     "text": [
      "predicted response:\n",
      "[-9.00197152e+02  1.71286303e+04  6.59941158e+03  7.23205937e+03\n",
      "  9.58263817e+03  1.98905421e+04  4.73086583e+02  1.05188899e+04\n",
      "  2.03055355e+04  8.71451696e+03  1.80390743e+04  3.81218947e+04\n",
      "  1.03773722e+03  1.61155088e+04  8.71761460e+03  8.18972271e+03\n",
      "  1.11052932e+04  8.17479240e+03 -1.20933022e+03  1.81064299e+04\n",
      "  1.10140331e+04  1.57470164e+04  6.00556076e+03  1.41662843e+04\n",
      "  1.86291897e+04  7.86052659e+03  1.54629679e+04 -5.47885106e+02\n",
      "  7.00927915e+03  3.95887891e+02  1.33556005e+04  1.11690416e+04\n",
      "  1.05977933e+04  1.55081724e+04  1.39093258e+03  1.91906113e+04\n",
      "  8.23391577e+03  8.73530985e+03  4.54968007e+04  1.04017318e+04\n",
      "  1.48743565e+04  7.67399299e+03  8.58074084e+03 -2.38902246e+03\n",
      "  7.38989914e+03  1.24937245e+03  4.23848093e+04  7.72174842e+03\n",
      "  8.78662073e+03  1.53977541e+04  1.14390431e+04  3.46993965e+03\n",
      "  1.11842757e+03  1.29762825e+04  7.10067056e+03  1.33110085e+04\n",
      "  7.97866460e+03  1.54603551e+04 -1.36150750e+03  8.37786762e+03\n",
      "  1.32227500e+03  8.28202029e+03  8.57605257e+03  1.12808093e+04\n",
      "  1.10992961e+04  8.59489704e+03  1.20232339e+04  7.96375849e+02\n",
      "  6.90864751e+02  7.84674605e+03 -2.19905039e+02  8.73177080e+03\n",
      "  8.20947510e+03  6.33146279e+03  7.35722809e+03  7.39881780e+03\n",
      "  6.56123722e+03  5.07731220e+03  8.21268146e+03  8.86417869e+03\n",
      "  1.53088364e+04  9.83805094e+03  1.41924499e+03  1.54660176e+04\n",
      "  8.24486561e+03  2.92478468e+04  9.09607212e+03  7.82372047e+03\n",
      "  1.91046632e+04  1.02057182e+04  7.23560284e+03  7.00078542e+03\n",
      "  9.33743348e+03  5.23291824e+02  1.15075618e+04  8.65222967e+03\n",
      "  1.56101445e+04  1.04127627e+03  8.66665227e+03 -1.59508485e+03\n",
      "  1.31760667e+04  3.80211768e+04  7.00361666e+03  1.78081243e+04\n",
      "  5.83498041e+03  3.28642797e+04  1.42986214e+03  5.96375258e+03\n",
      "  7.61670964e+03  7.52290305e+03  1.08426956e+04  1.46793128e+04\n",
      "  9.94574288e+03  1.24715354e+04  8.60436498e+03  8.13803366e+03\n",
      "  2.63550747e+04 -3.81283859e+02  6.12588849e+03  7.50739562e+03\n",
      "  6.13155097e+03  1.77836249e+04  1.07598818e+04  8.09976453e+03\n",
      "  1.03083008e+04  1.78919161e+04  3.56188427e+01  8.54181128e+03\n",
      "  8.64046329e+03  6.03714636e+03  1.47848959e+04  8.62559928e+03\n",
      "  7.69383246e+03  1.33747095e+04  2.42698805e+04  1.04201348e+04\n",
      "  8.54561674e+03  8.20299113e+03  1.58269989e+04  6.51942903e+03\n",
      " -1.90932210e+02  1.83059831e+04 -1.21286927e+03  8.68587682e+03\n",
      "  3.21080447e+04  5.08846793e+04  1.54638923e+04  7.68477120e+03\n",
      "  8.09938445e+03  8.00273014e+03  1.92567862e+04  3.46150798e+04\n",
      "  1.77538931e+04 -4.78521603e+02  1.28257088e+04  7.85687387e+03\n",
      "  6.89226943e+03  2.91229087e+04  4.53275885e+04  7.98237541e+03\n",
      "  1.64336269e+04  8.05755457e+02  3.43946492e+04  1.57400292e+04\n",
      "  3.56350357e+04  2.32002884e+04  1.25505090e+04  8.83020380e+03\n",
      "  1.06537103e+04  1.07930826e+04  1.32227500e+03  7.60354413e+03\n",
      "  1.13706519e+04  8.51703793e+03 -1.91592633e+02  9.35512874e+03\n",
      "  8.55557536e+03  3.32974585e+03  4.17336220e+04  8.05935495e+03\n",
      "  1.03599710e+04  2.52392628e+04  7.51761622e+03  3.83324831e+04\n",
      " -8.30344316e+02  8.53712301e+03  9.33743348e+03  1.77206487e+04\n",
      "  1.11478092e+04  9.04764549e+03 -1.57660712e+02  1.44326375e+04\n",
      "  3.25106877e+02  8.31706224e+03  8.17118895e+03  8.14223314e+03\n",
      "  1.10666300e+04  5.95310383e+02  5.00326036e+01  1.31909369e+04\n",
      " -1.31837847e+03  8.68363971e+03  8.30066893e+03  6.46563546e+03\n",
      "  1.01547060e+04  5.32226190e+03  1.53131969e+04  3.92008590e+01\n",
      "  1.69650453e+04  2.23787550e+04  7.51898446e+03  1.61250325e+04\n",
      "  2.14217680e+03  5.40011912e+03  1.61745235e+04  1.75984305e+04\n",
      "  7.47934520e+03  1.89208037e+04  6.56048202e+03  1.12672656e+04\n",
      "  1.02177011e+04  3.49111447e+04  1.16797428e+03  8.96545993e+03\n",
      "  8.27921561e+03  1.28820634e+04  2.35704323e+02  1.07460079e+04\n",
      "  1.47601806e+04  1.55372892e+03  1.50418221e+03  1.02226065e+04\n",
      "  2.26365249e+04  6.42316685e+03  8.36795828e+03  1.10423436e+04\n",
      "  1.14717179e+04  5.27152247e+03  8.36017237e+03  1.71617306e+04\n",
      "  6.38047977e+03  8.13869409e+03  8.59218002e+03  1.71512077e+02\n",
      "  1.96183723e+04  8.59020877e+03  3.21358558e+04  8.33159410e+03\n",
      "  5.40295225e+03  8.01688634e+03  9.54154921e+03  1.07831733e+04\n",
      "  2.52829207e+03 -3.09197318e+01  9.52752612e+02  1.10238268e+04\n",
      "  1.04541097e+04  1.04583566e+04  8.01482920e+03 -8.42381510e+02\n",
      "  6.87337960e+03  8.92190533e+03  1.08303706e+03  1.61960265e+03\n",
      "  8.75170316e+03 -4.31585766e+02  6.78349632e+02  9.20675690e+03\n",
      "  1.54136642e+04  8.54066207e+03  2.31290356e+04  3.69543794e+04\n",
      "  2.45971702e+04  1.61610834e+04  7.92717253e+03  8.58808534e+03\n",
      "  1.77043483e+04  1.01040120e+04  1.12355094e+04  8.11995833e+03\n",
      "  1.17793101e+03  4.59688652e+03  5.94327401e+03  1.93017375e+04\n",
      "  1.05907152e+04  7.40372319e+03 -1.36080159e+03  1.02756942e+04\n",
      "  8.36371142e+03  8.91868007e+03  2.50786812e+02  3.49880232e+02\n",
      "  7.41467250e+03  2.56431023e+04  2.82638268e+02  4.07260240e+02\n",
      "  1.02679557e+04  1.03351976e+04  6.06572463e+03  8.65603512e+03\n",
      "  7.65450646e+03  7.89502526e+03  7.81991366e+03  4.51144468e+02\n",
      "  1.56383084e+04  9.05736158e+03  1.90054701e+04  6.04019607e+03\n",
      "  2.95429065e+04  1.73217943e+04  1.57600852e+04  1.32326953e+04\n",
      "  4.38152004e+04  7.79339128e+02  7.06638883e+03  1.28328280e+04\n",
      "  6.26652423e+03 -1.73664688e+03  4.24154303e+04  1.94236218e+03\n",
      "  1.83844193e+04  1.27904206e+04  1.09183650e+04  1.32218104e+04\n",
      "  9.17528299e+03  8.35457618e+03 -7.79828354e+02  1.71027115e+04\n",
      "  1.21229878e+04  2.32271577e+03  1.27216607e+04  8.10406067e+03\n",
      "  6.85196722e+03  3.83151730e+02  4.49666091e+04  7.50598000e+03\n",
      "  8.31989348e+03  7.35276275e+03  8.70673105e+03  1.44489171e+04\n",
      "  1.53276790e+04  8.48403915e+03 -1.64817061e+03  1.06395560e+04\n",
      "  8.58427989e+03  8.53287804e+03  6.77476853e+03 -2.28441726e+02\n",
      "  8.98658056e+03  1.03351976e+04  2.09702166e+04 -2.36071006e+03\n",
      "  7.45893238e+03  2.54325863e+02  8.35380208e+03  1.28455275e+04\n",
      " -1.54766157e+03  2.54665873e+04 -1.39689990e+03  6.02877818e+02\n",
      "  7.84141572e+03  9.38179817e+03  5.61409152e+01  3.76415885e+04\n",
      " -6.98492894e+01  6.16481805e+03  1.09368344e+04  7.15784721e+03\n",
      "  7.50739562e+03  1.57217937e+03  7.19879230e+03  1.30630110e+04\n",
      "  1.48318879e+04  3.71033434e+04  7.89167024e+03 -1.53421318e+03\n",
      "  1.33183901e+04  8.48839779e+03  6.48403853e+03  1.54667254e+04\n",
      "  7.38361686e+01  7.87054772e+03  1.08931497e+04  1.76795749e+04\n",
      "  5.88232281e+02  7.63119800e+03  2.17764559e+04  8.24599646e+03\n",
      "  1.45360338e+04  1.03260459e+04  8.63382660e+03  1.09198469e+04\n",
      "  1.47582441e+03  8.34955522e+03 -1.40680924e+03  9.14229879e+03\n",
      "  1.47603517e+04  8.67585380e+03  6.43438445e+03  7.29177740e+03\n",
      "  9.00781487e+03  1.50044799e+04  8.60197515e+03  1.20296042e+04\n",
      "  2.20814785e+04  2.57864914e+02  5.88232281e+02  1.09488690e+04\n",
      "  1.00662298e+04  5.89558433e+03 -8.42381510e+02  1.74707709e+04\n",
      "  5.80454458e+03  1.08370805e+04  1.69615978e+04  1.24930380e+04\n",
      "  2.88294731e+04  3.52629320e+04  8.12736913e+03  2.00124244e+04\n",
      "  5.66353372e+03  7.39877041e+03  7.55541304e+03  5.72243860e+03\n",
      "  2.66719029e+04  6.62489274e+03  7.65450646e+03  1.47168924e+04\n",
      "  1.01043379e+04  2.23755273e+04  3.20289480e+04  1.78812970e+04\n",
      "  1.22474298e+04 -6.41868083e+01  7.97202655e+03  8.54066207e+03\n",
      "  1.04272130e+04  1.22813625e+03  7.60354413e+03  1.50017624e+04\n",
      "  1.52329308e+03  4.65130135e+04 -1.70125637e+03  6.74497421e+03\n",
      "  1.90941369e+04  8.84789905e+03  1.00631346e+04  7.35521645e+03\n",
      " -5.54079886e+02  7.75501550e+03  8.20091509e+03  5.93097484e+03\n",
      "  9.36877282e+03  8.37786762e+03 -1.34093362e+03  1.13396219e+04\n",
      "  6.93212784e+03  1.07879020e+03  1.04746836e+04  1.15221707e+04\n",
      "  1.55192276e+04  1.01815347e+04  4.30726621e+04  5.29711394e+02\n",
      "  8.33610683e+03  2.73728522e+04  3.87023047e+04  7.89014094e+03\n",
      "  1.00591536e+04  9.45109916e+03  7.71754895e+03  7.30142287e+03\n",
      "  3.52890300e+04  1.01157784e+04  6.95601973e+03  8.55743103e+03\n",
      "  8.35663332e+03 -1.72532192e+03  8.90350037e+03  1.33357818e+04\n",
      "  7.69250973e+03  8.69850373e+03  7.25607564e+03  3.10632802e+04\n",
      "  8.13787260e+03  6.05838066e+03  6.44794021e+03  1.16160210e+03\n",
      "  1.06253979e+04  1.86923148e+04  8.35037671e+03  2.96898298e+04\n",
      "  8.34065971e+02  1.40508879e+03  7.03599596e+03  2.98093941e+04\n",
      "  2.47834002e+04 -8.61763097e+01  1.06345331e+04  6.41608875e+03]\n"
     ]
    }
   ],
   "source": [
    "y_pred = model.predict(X_test)\n",
    "print('predicted response:', y_pred, sep='\\n')"
   ]
  },
  {
   "cell_type": "code",
   "execution_count": 36,
   "id": "d3b1e2df",
   "metadata": {},
   "outputs": [],
   "source": [
    "from sklearn.metrics import mean_squared_error,mean_absolute_error"
   ]
  },
  {
   "cell_type": "code",
   "execution_count": 37,
   "id": "837e6d8a",
   "metadata": {},
   "outputs": [
    {
     "name": "stdout",
     "output_type": "stream",
     "text": [
      "Mean Absolute Error:  3799.0105369279167\n"
     ]
    }
   ],
   "source": [
    "print('Mean Absolute Error: ',mean_absolute_error(y_test,y_pred))"
   ]
  },
  {
   "cell_type": "code",
   "execution_count": 38,
   "id": "fe403a51",
   "metadata": {},
   "outputs": [
    {
     "name": "stdout",
     "output_type": "stream",
     "text": [
      "Mean Squared Error:  28828047.11426163\n"
     ]
    }
   ],
   "source": [
    "print('Mean Squared Error: ',mean_squared_error(y_test,y_pred))"
   ]
  },
  {
   "cell_type": "code",
   "execution_count": 39,
   "id": "c515f613",
   "metadata": {},
   "outputs": [
    {
     "name": "stdout",
     "output_type": "stream",
     "text": [
      "Root Mean Squared Error:  5369.175645689162\n"
     ]
    }
   ],
   "source": [
    "print(\"Root Mean Squared Error: \",np.sqrt(mean_squared_error(y_test,y_pred)))"
   ]
  },
  {
   "cell_type": "code",
   "execution_count": 40,
   "id": "055c7c24",
   "metadata": {},
   "outputs": [
    {
     "data": {
      "text/html": [
       "<div>\n",
       "<style scoped>\n",
       "    .dataframe tbody tr th:only-of-type {\n",
       "        vertical-align: middle;\n",
       "    }\n",
       "\n",
       "    .dataframe tbody tr th {\n",
       "        vertical-align: top;\n",
       "    }\n",
       "\n",
       "    .dataframe thead th {\n",
       "        text-align: right;\n",
       "    }\n",
       "</style>\n",
       "<table border=\"1\" class=\"dataframe\">\n",
       "  <thead>\n",
       "    <tr style=\"text-align: right;\">\n",
       "      <th></th>\n",
       "      <th>Actual</th>\n",
       "      <th>Preicted</th>\n",
       "    </tr>\n",
       "  </thead>\n",
       "  <tbody>\n",
       "    <tr>\n",
       "      <th>7</th>\n",
       "      <td>1645.0</td>\n",
       "      <td>-900.197152</td>\n",
       "    </tr>\n",
       "    <tr>\n",
       "      <th>886</th>\n",
       "      <td>20000.0</td>\n",
       "      <td>17128.630322</td>\n",
       "    </tr>\n",
       "    <tr>\n",
       "      <th>653</th>\n",
       "      <td>9482.0</td>\n",
       "      <td>6599.411579</td>\n",
       "    </tr>\n",
       "    <tr>\n",
       "      <th>171</th>\n",
       "      <td>4350.0</td>\n",
       "      <td>7232.059372</td>\n",
       "    </tr>\n",
       "    <tr>\n",
       "      <th>220</th>\n",
       "      <td>4674.0</td>\n",
       "      <td>9582.638173</td>\n",
       "    </tr>\n",
       "    <tr>\n",
       "      <th>...</th>\n",
       "      <td>...</td>\n",
       "      <td>...</td>\n",
       "    </tr>\n",
       "    <tr>\n",
       "      <th>802</th>\n",
       "      <td>14000.0</td>\n",
       "      <td>29809.394126</td>\n",
       "    </tr>\n",
       "    <tr>\n",
       "      <th>919</th>\n",
       "      <td>24000.0</td>\n",
       "      <td>24783.400173</td>\n",
       "    </tr>\n",
       "    <tr>\n",
       "      <th>251</th>\n",
       "      <td>4900.0</td>\n",
       "      <td>-86.176310</td>\n",
       "    </tr>\n",
       "    <tr>\n",
       "      <th>172</th>\n",
       "      <td>4350.0</td>\n",
       "      <td>10634.533140</td>\n",
       "    </tr>\n",
       "    <tr>\n",
       "      <th>524</th>\n",
       "      <td>7400.0</td>\n",
       "      <td>6416.088753</td>\n",
       "    </tr>\n",
       "  </tbody>\n",
       "</table>\n",
       "<p>500 rows × 2 columns</p>\n",
       "</div>"
      ],
      "text/plain": [
       "      Actual      Preicted\n",
       "7     1645.0   -900.197152\n",
       "886  20000.0  17128.630322\n",
       "653   9482.0   6599.411579\n",
       "171   4350.0   7232.059372\n",
       "220   4674.0   9582.638173\n",
       "..       ...           ...\n",
       "802  14000.0  29809.394126\n",
       "919  24000.0  24783.400173\n",
       "251   4900.0    -86.176310\n",
       "172   4350.0  10634.533140\n",
       "524   7400.0   6416.088753\n",
       "\n",
       "[500 rows x 2 columns]"
      ]
     },
     "execution_count": 40,
     "metadata": {},
     "output_type": "execute_result"
    }
   ],
   "source": [
    "df1=pd.DataFrame({\"Actual\":y_test,\"Preicted\":y_pred})\n",
    "df1"
   ]
  },
  {
   "cell_type": "code",
   "execution_count": 41,
   "id": "ec18fd4f",
   "metadata": {
    "scrolled": false
   },
   "outputs": [
    {
     "data": {
      "text/plain": [
       "<AxesSubplot:xlabel='RentPerMonth'>"
      ]
     },
     "execution_count": 41,
     "metadata": {},
     "output_type": "execute_result"
    },
    {
     "data": {
      "image/png": "[encoded data removed]",
      "text/plain": [
       "<Figure size 1440x1440 with 1 Axes>"
      ]
     },
     "metadata": {
      "needs_background": "light"
     },
     "output_type": "display_data"
    }
   ],
   "source": [
    "mlp.figure(figsize=(20,20))\n",
    "sns.scatterplot(y_test,y_pred)\n",
    "sns.regplot(y_test,y_pred,ci=None)"
   ]
  },
  {
   "cell_type": "markdown",
   "id": "585485d2",
   "metadata": {},
   "source": [
    "<b>50:50</b>"
   ]
  },
  {
   "cell_type": "code",
   "execution_count": 46,
   "id": "223fce98",
   "metadata": {},
   "outputs": [],
   "source": [
    "X_train,X_test,y_train,y_test=train_test_split(X,y,test_size=0.5)"
   ]
  },
  {
   "cell_type": "code",
   "execution_count": 47,
   "id": "14320abb",
   "metadata": {},
   "outputs": [
    {
     "data": {
      "text/html": [
       "<div>\n",
       "<style scoped>\n",
       "    .dataframe tbody tr th:only-of-type {\n",
       "        vertical-align: middle;\n",
       "    }\n",
       "\n",
       "    .dataframe tbody tr th {\n",
       "        vertical-align: top;\n",
       "    }\n",
       "\n",
       "    .dataframe thead th {\n",
       "        text-align: right;\n",
       "    }\n",
       "</style>\n",
       "<table border=\"1\" class=\"dataframe\">\n",
       "  <thead>\n",
       "    <tr style=\"text-align: right;\">\n",
       "      <th></th>\n",
       "      <th>BuildingType</th>\n",
       "      <th>Location</th>\n",
       "      <th>Size</th>\n",
       "      <th>AreaSqFt</th>\n",
       "      <th>NoOfBath</th>\n",
       "      <th>NoOfPeople</th>\n",
       "      <th>NoOfBalcony</th>\n",
       "    </tr>\n",
       "  </thead>\n",
       "  <tbody>\n",
       "    <tr>\n",
       "      <th>274</th>\n",
       "      <td>3</td>\n",
       "      <td>1</td>\n",
       "      <td>2</td>\n",
       "      <td>1115.0</td>\n",
       "      <td>2</td>\n",
       "      <td>3</td>\n",
       "      <td>2</td>\n",
       "    </tr>\n",
       "    <tr>\n",
       "      <th>803</th>\n",
       "      <td>4</td>\n",
       "      <td>1</td>\n",
       "      <td>2</td>\n",
       "      <td>1468.0</td>\n",
       "      <td>2</td>\n",
       "      <td>3</td>\n",
       "      <td>1</td>\n",
       "    </tr>\n",
       "    <tr>\n",
       "      <th>994</th>\n",
       "      <td>9</td>\n",
       "      <td>1</td>\n",
       "      <td>3</td>\n",
       "      <td>3761.0</td>\n",
       "      <td>3</td>\n",
       "      <td>6</td>\n",
       "      <td>2</td>\n",
       "    </tr>\n",
       "    <tr>\n",
       "      <th>164</th>\n",
       "      <td>3</td>\n",
       "      <td>3</td>\n",
       "      <td>2</td>\n",
       "      <td>4500.0</td>\n",
       "      <td>5</td>\n",
       "      <td>2</td>\n",
       "      <td>1</td>\n",
       "    </tr>\n",
       "    <tr>\n",
       "      <th>277</th>\n",
       "      <td>3</td>\n",
       "      <td>1</td>\n",
       "      <td>2</td>\n",
       "      <td>1200.0</td>\n",
       "      <td>2</td>\n",
       "      <td>1</td>\n",
       "      <td>2</td>\n",
       "    </tr>\n",
       "    <tr>\n",
       "      <th>...</th>\n",
       "      <td>...</td>\n",
       "      <td>...</td>\n",
       "      <td>...</td>\n",
       "      <td>...</td>\n",
       "      <td>...</td>\n",
       "      <td>...</td>\n",
       "      <td>...</td>\n",
       "    </tr>\n",
       "    <tr>\n",
       "      <th>382</th>\n",
       "      <td>5</td>\n",
       "      <td>1</td>\n",
       "      <td>2</td>\n",
       "      <td>1186.0</td>\n",
       "      <td>2</td>\n",
       "      <td>2</td>\n",
       "      <td>2</td>\n",
       "    </tr>\n",
       "    <tr>\n",
       "      <th>751</th>\n",
       "      <td>4</td>\n",
       "      <td>1</td>\n",
       "      <td>4</td>\n",
       "      <td>2000.0</td>\n",
       "      <td>4</td>\n",
       "      <td>2</td>\n",
       "      <td>0</td>\n",
       "    </tr>\n",
       "    <tr>\n",
       "      <th>602</th>\n",
       "      <td>1</td>\n",
       "      <td>1</td>\n",
       "      <td>3</td>\n",
       "      <td>1780.0</td>\n",
       "      <td>3</td>\n",
       "      <td>2</td>\n",
       "      <td>1</td>\n",
       "    </tr>\n",
       "    <tr>\n",
       "      <th>63</th>\n",
       "      <td>5</td>\n",
       "      <td>0</td>\n",
       "      <td>2</td>\n",
       "      <td>1020.0</td>\n",
       "      <td>2</td>\n",
       "      <td>1</td>\n",
       "      <td>1</td>\n",
       "    </tr>\n",
       "    <tr>\n",
       "      <th>35</th>\n",
       "      <td>5</td>\n",
       "      <td>2</td>\n",
       "      <td>3</td>\n",
       "      <td>1033.0</td>\n",
       "      <td>2</td>\n",
       "      <td>1</td>\n",
       "      <td>2</td>\n",
       "    </tr>\n",
       "  </tbody>\n",
       "</table>\n",
       "<p>500 rows × 7 columns</p>\n",
       "</div>"
      ],
      "text/plain": [
       "     BuildingType  Location  Size  AreaSqFt  NoOfBath  NoOfPeople  NoOfBalcony\n",
       "274             3         1     2    1115.0         2           3            2\n",
       "803             4         1     2    1468.0         2           3            1\n",
       "994             9         1     3    3761.0         3           6            2\n",
       "164             3         3     2    4500.0         5           2            1\n",
       "277             3         1     2    1200.0         2           1            2\n",
       "..            ...       ...   ...       ...       ...         ...          ...\n",
       "382             5         1     2    1186.0         2           2            2\n",
       "751             4         1     4    2000.0         4           2            0\n",
       "602             1         1     3    1780.0         3           2            1\n",
       "63              5         0     2    1020.0         2           1            1\n",
       "35              5         2     3    1033.0         2           1            2\n",
       "\n",
       "[500 rows x 7 columns]"
      ]
     },
     "execution_count": 47,
     "metadata": {},
     "output_type": "execute_result"
    }
   ],
   "source": [
    "X_train"
   ]
  },
  {
   "cell_type": "code",
   "execution_count": 48,
   "id": "b497d279",
   "metadata": {
    "scrolled": true
   },
   "outputs": [
    {
     "data": {
      "text/plain": [
       "274     5000.0\n",
       "803    14000.0\n",
       "994    66000.0\n",
       "164     4300.0\n",
       "277     5000.0\n",
       "        ...   \n",
       "382     5800.0\n",
       "751    12000.0\n",
       "602     8483.0\n",
       "63      3060.0\n",
       "35      2553.0\n",
       "Name: RentPerMonth, Length: 500, dtype: float64"
      ]
     },
     "execution_count": 48,
     "metadata": {},
     "output_type": "execute_result"
    }
   ],
   "source": [
    "y_train"
   ]
  },
  {
   "cell_type": "code",
   "execution_count": 50,
   "id": "e2f96766",
   "metadata": {},
   "outputs": [],
   "source": [
    "model=LinearRegression()"
   ]
  },
  {
   "cell_type": "code",
   "execution_count": 51,
   "id": "c4170e98",
   "metadata": {},
   "outputs": [
    {
     "data": {
      "text/plain": [
       "LinearRegression()"
      ]
     },
     "execution_count": 51,
     "metadata": {},
     "output_type": "execute_result"
    }
   ],
   "source": [
    "model.fit(X_train,y_train)"
   ]
  },
  {
   "cell_type": "code",
   "execution_count": 52,
   "id": "16eae322",
   "metadata": {},
   "outputs": [
    {
     "name": "stdout",
     "output_type": "stream",
     "text": [
      "intercept: -11575.495192852386\n"
     ]
    }
   ],
   "source": [
    "print('intercept:', model.intercept_)\n"
   ]
  },
  {
   "cell_type": "code",
   "execution_count": 53,
   "id": "e642173b",
   "metadata": {},
   "outputs": [
    {
     "name": "stdout",
     "output_type": "stream",
     "text": [
      "slope: [ 4.40067373e+02 -5.76061569e+02 -4.91667561e+01  5.07548276e+00\n",
      "  5.14380864e+02  5.54996053e+03  1.20429701e+02]\n"
     ]
    }
   ],
   "source": [
    "print('slope:', model.coef_)\n"
   ]
  },
  {
   "cell_type": "code",
   "execution_count": 54,
   "id": "7c0a8444",
   "metadata": {},
   "outputs": [],
   "source": [
    "r_Sq=model.score(X_test,y_test)\n"
   ]
  },
  {
   "cell_type": "code",
   "execution_count": 55,
   "id": "3cad9fe1",
   "metadata": {},
   "outputs": [
    {
     "name": "stdout",
     "output_type": "stream",
     "text": [
      "Coefficient of determination:  0.23517465444280095\n"
     ]
    }
   ],
   "source": [
    "print(\"Coefficient of determination: \",r_Sq)\n"
   ]
  },
  {
   "cell_type": "code",
   "execution_count": 56,
   "id": "06be4763",
   "metadata": {},
   "outputs": [],
   "source": [
    "y_pred = model.predict(X_test)\n"
   ]
  },
  {
   "cell_type": "code",
   "execution_count": 57,
   "id": "aab93719",
   "metadata": {
    "scrolled": false
   },
   "outputs": [
    {
     "name": "stdout",
     "output_type": "stream",
     "text": [
      "predicted response:\n",
      "[ 2.56190556e+02  3.33475425e+04  7.55534351e+03 -1.14357435e+03\n",
      "  6.98366308e+03  9.42969628e+03  1.19135821e+04  1.38757093e+04\n",
      "  2.57130504e+03  8.33443584e+03  9.32354908e+03  8.14732695e+03\n",
      "  2.01990200e+04  1.33655966e+04  1.28006300e+04  1.35204612e+04\n",
      "  9.42841428e+03  1.62357165e+03  5.54615133e+03  8.95701383e+02\n",
      "  1.12485647e+04  6.78202566e+03  7.37655148e+03  8.54643303e+03\n",
      "  6.79886947e+03  6.75573359e+03  7.84441892e+03  8.81057582e+03\n",
      "  1.35978576e+04  1.36370796e+04  1.07917712e+04  1.57696620e+03\n",
      "  1.80107462e+05  8.08608668e+03  8.27524998e+03  9.54432685e+03\n",
      "  1.23519000e+03  2.88231524e+02 -8.19036876e+02  1.15013064e+04\n",
      "  9.08733202e+03  5.94089258e+03  2.30650597e+04  2.39847232e+04\n",
      " -1.98195510e+03  1.35238806e+04  7.99068490e+03  2.28822813e+03\n",
      "  9.32392430e+03  1.29874998e+04  5.12256303e+04  9.38229807e+03\n",
      "  7.70969260e+03  9.30036563e+03  1.01446529e+04  6.31877484e+03\n",
      "  7.64206466e+03  1.04075341e+04  8.12521541e+03  6.90857468e+03\n",
      "  3.78985884e+03  2.37994972e+04  1.51998576e+03  9.94451508e+03\n",
      "  8.15954359e+03  1.42560514e+04  1.83395145e+04  9.16462584e+03\n",
      "  8.08354321e+03  1.74839460e+04  8.33224187e+03  1.14984249e+04\n",
      "  2.22617221e+03  7.28473393e+03  4.38907935e+02  6.87062058e+03\n",
      "  3.34407908e+04  1.99763540e+04  7.08874859e+03  2.27738795e+04\n",
      "  1.29768080e+04  7.59595882e+03  7.99472799e+03  1.58317692e+04\n",
      "  3.69722641e+04  8.16970868e+03 -2.47797053e+03  1.58531046e+04\n",
      "  1.03029159e+04  9.29911561e+03  7.92470362e+03  5.15019136e+04\n",
      "  1.35618843e+03  9.09495097e+03  1.44585005e+04  7.00558238e+03\n",
      "  2.51115073e+02 -2.65306896e+03  3.16513652e+03  1.11764074e+03\n",
      "  8.31064650e+03  4.24086275e+04  2.84415733e+04  1.33796273e+03\n",
      "  3.70716934e+03  1.42100812e+03  1.08003211e+04  9.04303456e+03\n",
      "  4.92255573e+03  3.05600792e+03  9.01236136e+03  6.14275031e+03\n",
      "  9.36729086e+03  7.84323842e+03  1.68186820e+04  8.41056808e+03\n",
      "  8.77851931e+03  2.04898610e+03  1.72508130e+03  1.03454782e+04\n",
      " -1.27138752e+03  1.36408909e+04  1.03453261e+00  4.71377029e+04\n",
      "  6.66921863e+03  1.32374983e+04  7.56596171e+03  7.56526737e+03\n",
      "  8.77876661e+03  8.25653612e+03  1.15542423e+04  1.66282637e+04\n",
      "  2.07143836e+04  1.67097100e+04  1.70523516e+03  7.63597571e+03\n",
      "  1.19689820e+04  8.41056808e+03  1.68440868e+04  1.35037352e+04\n",
      "  7.74957282e+03  1.40090895e+04  4.32287047e+03  2.04660641e+04\n",
      "  2.96967631e+04  7.73691076e+03  5.46607294e+04  3.09380182e+04\n",
      "  1.22198006e+04  7.54554204e+03  3.31206270e+04  7.92620325e+03\n",
      "  3.13087064e+04  9.29889530e+03  1.50186159e+04  1.93149322e+04\n",
      "  1.96766377e+04  8.63406932e+03  9.06331757e+03  1.21560437e+04\n",
      "  1.25053647e+04  3.31623942e+03  9.40960053e+03  8.97647868e+03\n",
      "  1.04669403e+04  7.83450651e+03  3.41611079e+03  1.71643094e+04\n",
      "  1.24666816e+04  1.33717726e+04  6.52041227e+03  1.42100812e+03\n",
      "  5.75239700e+03  1.14055998e+04  8.65707277e+03  6.90857468e+03\n",
      "  2.06792011e+04  1.54408393e+04  5.93003890e+03  8.29013838e+03\n",
      "  4.00928996e+04  7.08383427e+03  1.52827512e+04 -2.34932636e+03\n",
      "  7.68047455e+03  1.42958307e+04  8.24942158e+03  4.85275562e+04\n",
      "  7.70519479e+03  1.19846274e+04  1.59300595e+02  2.18187475e+03\n",
      "  7.64863977e+03  7.83450651e+03  7.61879384e+03  1.19419504e+04\n",
      "  1.40441124e+03 -2.08847667e+01  7.20814590e+03 -1.06882400e+03\n",
      "  1.37234805e+04  1.10264050e+04  8.39084075e+03  8.80449832e+03\n",
      "  9.24398072e+03  8.79160451e+03  1.47112071e+04  8.68948895e+03\n",
      "  9.87136317e+03  8.73285551e+03  8.25830360e+03  1.46156870e+04\n",
      "  8.53745515e+03  1.62776075e+04  9.07658553e+03  1.54499464e+04\n",
      "  9.90702821e+03  7.74348587e+03  2.43564889e+03  9.69994689e+03\n",
      "  2.34744595e+04  1.28346945e+04  1.75948825e+04  1.44928484e+04\n",
      "  7.30041924e+03  3.03946130e+02  1.01100475e+04  6.97351212e+03\n",
      "  3.88531919e+04 -1.43480215e+02  1.41463312e+04  7.85007101e+03\n",
      " -9.30415525e+02  6.66643969e+03 -1.60129390e+03  4.30681532e+03\n",
      "  3.57452032e+03  2.78447531e+03  1.70777862e+03  1.01424589e+04\n",
      "  1.31152279e+04  1.53679711e+04  2.30114287e+03  2.81144080e+03\n",
      "  8.61139342e+03  1.49874819e+04  6.41892710e+03  1.28351430e+03\n",
      "  1.82579509e+04  9.04303456e+03  2.18349212e+03  9.96584940e+03\n",
      "  1.08673079e+04  9.64737331e+03  1.16129670e+04  1.89164614e+03\n",
      "  1.30174000e+03  2.74763627e+04  7.25275211e+03  9.77564226e+03\n",
      "  8.23176460e+03  8.95617675e+03  1.11140701e+04  6.59685711e+02\n",
      "  8.77784389e+03  7.29360584e+02  7.05633721e+03  1.30345611e+04\n",
      " -1.10182036e+03  2.12593714e+04  7.81442489e+03  1.23756713e+04\n",
      "  4.06464710e+03  8.85270968e+03  1.51717951e+04  1.03899266e+04\n",
      "  2.05800173e+04  7.64924567e+03  7.05679607e+03  1.63450417e+04\n",
      "  7.54024625e+03  7.46663904e+03  8.63815752e+03  9.20372528e+03\n",
      "  1.24497606e+04  8.70323969e+02  1.43451857e+04  8.10465723e+03\n",
      "  8.22162509e+03  2.84172903e+04  1.22371033e+04  4.30646920e+04\n",
      "  8.11111460e+03  6.88716724e+03  1.05561165e+04  1.38834088e+04\n",
      "  8.23800167e+03  1.17195522e+04  1.34558167e+03  1.17770408e+03\n",
      "  2.03215788e+04  9.78290993e+02  9.98569247e+03  1.41132196e+04\n",
      "  8.13903548e+03  2.65642666e+03  9.24199186e+03  1.04796587e+03\n",
      "  8.51089523e+03  6.57416635e+03  1.54177364e+04  1.42132648e+04\n",
      "  7.07247831e+03  2.44325639e+03 -8.72967846e+02  3.33257577e+04\n",
      "  1.53013673e+03  8.27722364e+03  6.04769803e+03  8.41056808e+03\n",
      "  5.50669760e+03  8.19289693e+03  8.25830360e+03  8.90343414e+03\n",
      "  8.34747312e+03  1.09570414e+04  1.52326907e+04  6.01877611e+04\n",
      "  7.59049667e+03  5.79899937e+03  1.39426493e+04  9.67920809e+03\n",
      "  9.68820892e+03  2.10397534e+04  1.29784284e+04  3.74544414e+04\n",
      "  1.58198915e+04  8.25610963e+03  1.75892681e+04  5.73413952e+02\n",
      "  8.68381794e+03  1.09059753e+04 -2.73682015e+03  9.49314553e+03\n",
      "  8.14433127e+03  6.27609475e+03  2.11727536e+03  1.52499074e+04\n",
      "  1.22645053e+04  1.18731973e+04  9.52209880e+03  1.53574631e+04\n",
      "  4.04527690e+04  4.39995248e+04  9.13299244e+03  8.37873330e+03\n",
      "  8.02697516e+03  1.25637385e+04  8.15310035e+03  7.91317077e+03\n",
      "  5.75332003e+03  5.30549704e+03  8.81579942e+03  1.12424568e+04\n",
      "  9.16992163e+03  1.33985319e+04  8.15459997e+03  1.02462778e+04\n",
      "  1.28976163e+04  8.20754877e+03  1.17006321e+04  7.14815476e+03\n",
      "  1.00478435e+04  3.85609911e+04  1.74791525e+03  8.02079975e+03\n",
      "  7.47806114e+03  1.07921207e+04  1.67294459e+03  8.41056808e+03\n",
      "  8.91854285e+03  7.36154111e+01  2.35305928e+03  1.23693705e+04\n",
      "  1.05174700e+04  7.76367006e+03 -6.16017566e+02  1.06902626e+04\n",
      "  7.63943275e+03  1.33260933e+04  8.02713630e+03  8.62857528e+03\n",
      "  2.98811203e+04  2.16378118e+04  8.69583089e+03  1.04060460e+04\n",
      "  7.80196594e+03  1.63036713e+04  1.16014342e+04  1.14150232e+04\n",
      "  2.48844757e+03  3.40391023e+04  8.87160381e+03  6.10897316e+03\n",
      "  6.89562277e+03  2.05810533e+04  1.07958143e+04  7.39708890e+03\n",
      "  2.23493409e+04  3.22763038e+03  3.98473191e+04  8.41702545e+03\n",
      "  1.13124982e+03  8.52234644e+03  2.04053843e+02  1.17943862e+04\n",
      "  6.30608041e+03  7.73342335e+03  1.53117518e+04  7.30894977e+03\n",
      "  2.55861061e+03  1.15201039e+04  6.16005299e+03  9.36614303e+03\n",
      "  1.16830187e+04  6.49962218e+03  1.28769188e+04  1.06423882e+04\n",
      "  2.04662595e+04  1.10685389e+04  1.57866561e+04  9.14570580e+03\n",
      "  8.53719517e+03  1.04444224e+04  8.28368101e+03  1.37682045e+04\n",
      "  8.19821096e+03  9.98224888e+03  1.04405305e+04  8.72039283e+03\n",
      "  9.31063434e+03  2.55710724e+04  8.74748751e+03  3.08035892e+04\n",
      "  1.28160815e+04  1.87780157e+03  1.09049429e+04  7.70000049e+03\n",
      "  4.56210612e+02  2.04898610e+03  2.89866795e+03  2.77116608e+03\n",
      " -1.06882400e+03  1.63776096e+04  1.47130716e+03  1.13298195e+04\n",
      "  9.46372610e+03  3.79207138e+04  1.28098936e+04  1.14150232e+04\n",
      " -1.34754906e+03  8.30213951e+03  6.52986889e+03  8.50445879e+03\n",
      "  2.89996164e+04  8.04317591e+03  1.14983071e+04  1.59565077e+03\n",
      "  1.84237319e+04 -2.53518273e+03  5.29209165e+03  7.59595882e+03\n",
      "  6.00379437e+02  7.63130779e+03  7.72318394e+03  8.85974258e+03\n",
      "  1.44586183e+04  8.64542217e+03  1.26804746e+04 -1.38674174e+03\n",
      "  2.99556645e+04  1.78676949e+04  1.24296525e+04  1.21435878e+04\n",
      "  8.61001153e+03  8.30260106e+03  6.61761885e+03  1.12779852e+04\n",
      "  7.27504183e+03  2.50654517e+04  1.75614953e+04  8.29417002e+03\n",
      "  9.18755488e+03  7.69896810e+03  1.18261373e+04  8.24213320e+03\n",
      " -1.07644295e+03  6.75826561e+03  9.44654117e+03  1.35095802e+04]\n"
     ]
    }
   ],
   "source": [
    "print('predicted response:', y_pred, sep='\\n')\n"
   ]
  },
  {
   "cell_type": "code",
   "execution_count": 58,
   "id": "380a58a1",
   "metadata": {},
   "outputs": [
    {
     "name": "stdout",
     "output_type": "stream",
     "text": [
      "Mean Absolute Error:  3880.0580389031948\n"
     ]
    }
   ],
   "source": [
    "print('Mean Absolute Error: ',mean_absolute_error(y_test,y_pred))"
   ]
  },
  {
   "cell_type": "code",
   "execution_count": 59,
   "id": "97df4cd5",
   "metadata": {},
   "outputs": [
    {
     "name": "stdout",
     "output_type": "stream",
     "text": [
      "Mean Squared Error:  84990033.29475076\n"
     ]
    }
   ],
   "source": [
    "print('Mean Squared Error: ',mean_squared_error(y_test,y_pred))"
   ]
  },
  {
   "cell_type": "code",
   "execution_count": 60,
   "id": "5fd6fa85",
   "metadata": {},
   "outputs": [
    {
     "name": "stdout",
     "output_type": "stream",
     "text": [
      "Root Mean Squared Error:  9219.003920964064\n"
     ]
    }
   ],
   "source": [
    "print(\"Root Mean Squared Error: \",np.sqrt(mean_squared_error(y_test,y_pred)))"
   ]
  },
  {
   "cell_type": "code",
   "execution_count": 61,
   "id": "780829c4",
   "metadata": {},
   "outputs": [
    {
     "data": {
      "text/html": [
       "<div>\n",
       "<style scoped>\n",
       "    .dataframe tbody tr th:only-of-type {\n",
       "        vertical-align: middle;\n",
       "    }\n",
       "\n",
       "    .dataframe tbody tr th {\n",
       "        vertical-align: top;\n",
       "    }\n",
       "\n",
       "    .dataframe thead th {\n",
       "        text-align: right;\n",
       "    }\n",
       "</style>\n",
       "<table border=\"1\" class=\"dataframe\">\n",
       "  <thead>\n",
       "    <tr style=\"text-align: right;\">\n",
       "      <th></th>\n",
       "      <th>Actual</th>\n",
       "      <th>Preicted</th>\n",
       "    </tr>\n",
       "  </thead>\n",
       "  <tbody>\n",
       "    <tr>\n",
       "      <th>150</th>\n",
       "      <td>4110.0</td>\n",
       "      <td>256.190556</td>\n",
       "    </tr>\n",
       "    <tr>\n",
       "      <th>985</th>\n",
       "      <td>50000.0</td>\n",
       "      <td>33347.542500</td>\n",
       "    </tr>\n",
       "    <tr>\n",
       "      <th>292</th>\n",
       "      <td>5200.0</td>\n",
       "      <td>7555.343513</td>\n",
       "    </tr>\n",
       "    <tr>\n",
       "      <th>6</th>\n",
       "      <td>1513.5</td>\n",
       "      <td>-1143.574354</td>\n",
       "    </tr>\n",
       "    <tr>\n",
       "      <th>287</th>\n",
       "      <td>5191.0</td>\n",
       "      <td>6983.663083</td>\n",
       "    </tr>\n",
       "    <tr>\n",
       "      <th>...</th>\n",
       "      <td>...</td>\n",
       "      <td>...</td>\n",
       "    </tr>\n",
       "    <tr>\n",
       "      <th>358</th>\n",
       "      <td>5612.0</td>\n",
       "      <td>8242.133203</td>\n",
       "    </tr>\n",
       "    <tr>\n",
       "      <th>17</th>\n",
       "      <td>2000.0</td>\n",
       "      <td>-1076.442945</td>\n",
       "    </tr>\n",
       "    <tr>\n",
       "      <th>649</th>\n",
       "      <td>9400.0</td>\n",
       "      <td>6758.265613</td>\n",
       "    </tr>\n",
       "    <tr>\n",
       "      <th>719</th>\n",
       "      <td>10900.0</td>\n",
       "      <td>9446.541167</td>\n",
       "    </tr>\n",
       "    <tr>\n",
       "      <th>815</th>\n",
       "      <td>14500.0</td>\n",
       "      <td>13509.580203</td>\n",
       "    </tr>\n",
       "  </tbody>\n",
       "</table>\n",
       "<p>500 rows × 2 columns</p>\n",
       "</div>"
      ],
      "text/plain": [
       "      Actual      Preicted\n",
       "150   4110.0    256.190556\n",
       "985  50000.0  33347.542500\n",
       "292   5200.0   7555.343513\n",
       "6     1513.5  -1143.574354\n",
       "287   5191.0   6983.663083\n",
       "..       ...           ...\n",
       "358   5612.0   8242.133203\n",
       "17    2000.0  -1076.442945\n",
       "649   9400.0   6758.265613\n",
       "719  10900.0   9446.541167\n",
       "815  14500.0  13509.580203\n",
       "\n",
       "[500 rows x 2 columns]"
      ]
     },
     "execution_count": 61,
     "metadata": {},
     "output_type": "execute_result"
    }
   ],
   "source": [
    "df2=pd.DataFrame({\"Actual\":y_test,\"Preicted\":y_pred})\n",
    "df2"
   ]
  },
  {
   "cell_type": "code",
   "execution_count": 62,
   "id": "43710358",
   "metadata": {
    "scrolled": false
   },
   "outputs": [
    {
     "data": {
      "text/plain": [
       "<AxesSubplot:xlabel='RentPerMonth'>"
      ]
     },
     "execution_count": 62,
     "metadata": {},
     "output_type": "execute_result"
    },
    {
     "data": {
      "image/png": "[encoded data removed]",
      "text/plain": [
       "<Figure size 1440x1440 with 1 Axes>"
      ]
     },
     "metadata": {
      "needs_background": "light"
     },
     "output_type": "display_data"
    }
   ],
   "source": [
    "mlp.figure(figsize=(20,20))\n",
    "sns.scatterplot(y_test,y_pred)\n",
    "sns.regplot(y_test,y_pred,ci=None)"
   ]
  },
  {
   "cell_type": "markdown",
   "id": "e3fb284e",
   "metadata": {},
   "source": [
    "<b>60:40</b>"
   ]
  },
  {
   "cell_type": "code",
   "execution_count": 63,
   "id": "c2c1df16",
   "metadata": {},
   "outputs": [],
   "source": [
    "X_train,X_test,y_train,y_test=train_test_split(X,y,test_size=0.4)\n"
   ]
  },
  {
   "cell_type": "code",
   "execution_count": 64,
   "id": "23d774aa",
   "metadata": {},
   "outputs": [
    {
     "data": {
      "text/html": [
       "<div>\n",
       "<style scoped>\n",
       "    .dataframe tbody tr th:only-of-type {\n",
       "        vertical-align: middle;\n",
       "    }\n",
       "\n",
       "    .dataframe tbody tr th {\n",
       "        vertical-align: top;\n",
       "    }\n",
       "\n",
       "    .dataframe thead th {\n",
       "        text-align: right;\n",
       "    }\n",
       "</style>\n",
       "<table border=\"1\" class=\"dataframe\">\n",
       "  <thead>\n",
       "    <tr style=\"text-align: right;\">\n",
       "      <th></th>\n",
       "      <th>BuildingType</th>\n",
       "      <th>Location</th>\n",
       "      <th>Size</th>\n",
       "      <th>AreaSqFt</th>\n",
       "      <th>NoOfBath</th>\n",
       "      <th>NoOfPeople</th>\n",
       "      <th>NoOfBalcony</th>\n",
       "    </tr>\n",
       "  </thead>\n",
       "  <tbody>\n",
       "    <tr>\n",
       "      <th>117</th>\n",
       "      <td>5</td>\n",
       "      <td>1</td>\n",
       "      <td>2</td>\n",
       "      <td>1141.0</td>\n",
       "      <td>2</td>\n",
       "      <td>2</td>\n",
       "      <td>2</td>\n",
       "    </tr>\n",
       "    <tr>\n",
       "      <th>10</th>\n",
       "      <td>3</td>\n",
       "      <td>2</td>\n",
       "      <td>2</td>\n",
       "      <td>650.0</td>\n",
       "      <td>1</td>\n",
       "      <td>1</td>\n",
       "      <td>1</td>\n",
       "    </tr>\n",
       "    <tr>\n",
       "      <th>827</th>\n",
       "      <td>4</td>\n",
       "      <td>1</td>\n",
       "      <td>6</td>\n",
       "      <td>1407.0</td>\n",
       "      <td>4</td>\n",
       "      <td>3</td>\n",
       "      <td>1</td>\n",
       "    </tr>\n",
       "    <tr>\n",
       "      <th>908</th>\n",
       "      <td>0</td>\n",
       "      <td>1</td>\n",
       "      <td>3</td>\n",
       "      <td>1640.0</td>\n",
       "      <td>3</td>\n",
       "      <td>3</td>\n",
       "      <td>2</td>\n",
       "    </tr>\n",
       "    <tr>\n",
       "      <th>928</th>\n",
       "      <td>0</td>\n",
       "      <td>1</td>\n",
       "      <td>4</td>\n",
       "      <td>4111.0</td>\n",
       "      <td>4</td>\n",
       "      <td>3</td>\n",
       "      <td>2</td>\n",
       "    </tr>\n",
       "    <tr>\n",
       "      <th>...</th>\n",
       "      <td>...</td>\n",
       "      <td>...</td>\n",
       "      <td>...</td>\n",
       "      <td>...</td>\n",
       "      <td>...</td>\n",
       "      <td>...</td>\n",
       "      <td>...</td>\n",
       "    </tr>\n",
       "    <tr>\n",
       "      <th>509</th>\n",
       "      <td>1</td>\n",
       "      <td>1</td>\n",
       "      <td>3</td>\n",
       "      <td>1800.0</td>\n",
       "      <td>2</td>\n",
       "      <td>3</td>\n",
       "      <td>2</td>\n",
       "    </tr>\n",
       "    <tr>\n",
       "      <th>377</th>\n",
       "      <td>5</td>\n",
       "      <td>1</td>\n",
       "      <td>3</td>\n",
       "      <td>1100.0</td>\n",
       "      <td>2</td>\n",
       "      <td>2</td>\n",
       "      <td>1</td>\n",
       "    </tr>\n",
       "    <tr>\n",
       "      <th>695</th>\n",
       "      <td>4</td>\n",
       "      <td>2</td>\n",
       "      <td>3</td>\n",
       "      <td>500.0</td>\n",
       "      <td>3</td>\n",
       "      <td>2</td>\n",
       "      <td>2</td>\n",
       "    </tr>\n",
       "    <tr>\n",
       "      <th>828</th>\n",
       "      <td>6</td>\n",
       "      <td>0</td>\n",
       "      <td>2</td>\n",
       "      <td>1694.0</td>\n",
       "      <td>2</td>\n",
       "      <td>3</td>\n",
       "      <td>2</td>\n",
       "    </tr>\n",
       "    <tr>\n",
       "      <th>175</th>\n",
       "      <td>5</td>\n",
       "      <td>1</td>\n",
       "      <td>2</td>\n",
       "      <td>1295.0</td>\n",
       "      <td>2</td>\n",
       "      <td>1</td>\n",
       "      <td>2</td>\n",
       "    </tr>\n",
       "  </tbody>\n",
       "</table>\n",
       "<p>600 rows × 7 columns</p>\n",
       "</div>"
      ],
      "text/plain": [
       "     BuildingType  Location  Size  AreaSqFt  NoOfBath  NoOfPeople  NoOfBalcony\n",
       "117             5         1     2    1141.0         2           2            2\n",
       "10              3         2     2     650.0         1           1            1\n",
       "827             4         1     6    1407.0         4           3            1\n",
       "908             0         1     3    1640.0         3           3            2\n",
       "928             0         1     4    4111.0         4           3            2\n",
       "..            ...       ...   ...       ...       ...         ...          ...\n",
       "509             1         1     3    1800.0         2           3            2\n",
       "377             5         1     3    1100.0         2           2            1\n",
       "695             4         2     3     500.0         3           2            2\n",
       "828             6         0     2    1694.0         2           3            2\n",
       "175             5         1     2    1295.0         2           1            2\n",
       "\n",
       "[600 rows x 7 columns]"
      ]
     },
     "execution_count": 64,
     "metadata": {},
     "output_type": "execute_result"
    }
   ],
   "source": [
    "X_train\n"
   ]
  },
  {
   "cell_type": "code",
   "execution_count": 65,
   "id": "9706ce81",
   "metadata": {},
   "outputs": [
    {
     "data": {
      "text/plain": [
       "117     3855.0\n",
       "10      1700.0\n",
       "827    15000.0\n",
       "908    22900.0\n",
       "928    25000.0\n",
       "        ...   \n",
       "509     7000.0\n",
       "377     5800.0\n",
       "695    10000.0\n",
       "828    15000.0\n",
       "175     4390.0\n",
       "Name: RentPerMonth, Length: 600, dtype: float64"
      ]
     },
     "execution_count": 65,
     "metadata": {},
     "output_type": "execute_result"
    }
   ],
   "source": [
    "y_train\n"
   ]
  },
  {
   "cell_type": "code",
   "execution_count": 66,
   "id": "b11d13a7",
   "metadata": {},
   "outputs": [],
   "source": [
    "model=LinearRegression()\n"
   ]
  },
  {
   "cell_type": "code",
   "execution_count": 67,
   "id": "de4f367c",
   "metadata": {},
   "outputs": [
    {
     "data": {
      "text/plain": [
       "LinearRegression()"
      ]
     },
     "execution_count": 67,
     "metadata": {},
     "output_type": "execute_result"
    }
   ],
   "source": [
    "model.fit(X_train,y_train)\n"
   ]
  },
  {
   "cell_type": "code",
   "execution_count": 68,
   "id": "1d5aed13",
   "metadata": {},
   "outputs": [
    {
     "name": "stdout",
     "output_type": "stream",
     "text": [
      "intercept: -10798.875177288883\n"
     ]
    }
   ],
   "source": [
    "print('intercept:', model.intercept_)\n"
   ]
  },
  {
   "cell_type": "code",
   "execution_count": 69,
   "id": "ff30fed0",
   "metadata": {},
   "outputs": [
    {
     "name": "stdout",
     "output_type": "stream",
     "text": [
      "slope: [ 4.22572057e+02 -6.03453263e+02 -4.22396334e+02  4.26654947e+00\n",
      "  1.76055063e+03  4.95185056e+03 -4.16351037e+02]\n"
     ]
    }
   ],
   "source": [
    "print('slope:', model.coef_)\n"
   ]
  },
  {
   "cell_type": "code",
   "execution_count": 70,
   "id": "40e2d427",
   "metadata": {},
   "outputs": [],
   "source": [
    "r_Sq=model.score(X_test,y_test)\n"
   ]
  },
  {
   "cell_type": "code",
   "execution_count": 71,
   "id": "e093f4fa",
   "metadata": {},
   "outputs": [
    {
     "name": "stdout",
     "output_type": "stream",
     "text": [
      "Coefficient of determination:  0.4419068142041698\n"
     ]
    }
   ],
   "source": [
    "print(\"Coefficient of determination: \",r_Sq)\n",
    "\n"
   ]
  },
  {
   "cell_type": "code",
   "execution_count": 72,
   "id": "293f0c22",
   "metadata": {},
   "outputs": [],
   "source": [
    "y_pred = model.predict(X_test)\n"
   ]
  },
  {
   "cell_type": "code",
   "execution_count": 73,
   "id": "ab76607b",
   "metadata": {},
   "outputs": [
    {
     "name": "stdout",
     "output_type": "stream",
     "text": [
      "predicted response:\n",
      "[ 30463.60683385   7967.82464991  25351.91324474   3091.00116889\n",
      "  13087.31871312   8810.64697546   6260.37124695  13381.34330824\n",
      "   9410.48055407   8248.16514335  22159.95006599   8249.85920731\n",
      "   1560.7134       2160.52606481   1307.21616991   7817.2515827\n",
      "  28224.16648515   8718.55369812  11173.04149153   7408.79798289\n",
      "  -1459.24686977   2327.28881295    753.45903234  10797.40147846\n",
      "  10791.31005823   6090.43419526  41786.70137497   7389.78702455\n",
      "   6370.70765152   7622.86009386  12775.23847964   8695.34322748\n",
      "   7228.46775521   7273.32265213  -1278.63242683   7743.58822854\n",
      "  13178.31974456    870.25731241   2877.67369516   1947.19859109\n",
      "  10852.68296232    848.19963775   7383.01680042  11164.14107396\n",
      "  11660.93059999  -1918.61484801   6529.88879113  11493.22019098\n",
      "   8431.10773154   2405.89550807   2274.22043226   7715.98160878\n",
      "  14366.93492543  52411.74907657   8512.07319566  43144.89943124\n",
      "  27390.14305278  15640.80395147   1817.69963848  10570.59555241\n",
      "   7225.56493103  29711.50411167   2274.22043226   7513.61593521\n",
      "  11303.17610549   6010.10439249  10270.0354713    2186.12536166\n",
      "   8168.88580692  -2063.67753014   9015.01997195   7311.40198222\n",
      "  24649.78714369   9819.72598744   6755.28304973   8331.59451495\n",
      "  12386.97864791  55348.66147804   8799.72887985   8986.64273386\n",
      "   9935.65746051   8722.52991482   8079.38088764   9271.87661079\n",
      "  26529.79153628   6713.35041854   2186.75131305  33441.13288808\n",
      "   6237.5821546    7213.27134431   9239.92726095  -2138.0786582\n",
      "   9050.41398049   8265.74053961   7944.61417927   2491.18850407\n",
      "   6303.76166899   2199.19335281  11372.57987637   1192.0193341\n",
      "   1853.60284537  18626.90016817   -584.95567358  16304.94165687\n",
      "   8089.60011427   6196.97010616  13998.15102705   8698.24942703\n",
      "   4127.42684835   9869.36926026  15744.0671929    6420.72931589\n",
      "  10725.31242947   8079.38088764   6974.24559784  14348.27186578\n",
      "  14372.96257603   6948.00270337   6643.1408665    6835.94520356\n",
      "   6186.06909479   5196.11766329  12030.36313269  17001.672824\n",
      "  13925.69980849    586.31598806   4748.69392392   3645.65260057\n",
      "  15775.83106629   8019.64919499  14918.22638183  14795.23108432\n",
      "   4934.71328563   6432.93406903   5460.75568412  35382.83540316\n",
      "  11253.73861292   7321.06229464  16035.41773466   7183.4901814\n",
      "   7912.80179882  11152.07606278   7744.08458028  10991.70828388\n",
      "   7692.71203724   9785.49461575   6773.71777253   8284.03651934\n",
      "   7230.23856631  10295.53579225   9702.65936464  36053.86237368\n",
      "  12152.57705958   6790.51562771   9982.49052883   6968.02457796\n",
      "  17568.61606872   7033.35133909   6927.41252952  -1598.62363742\n",
      "   9506.73020116  11651.2623513   12034.72865806   3349.25215676\n",
      "   8410.40093556  13925.69980849    637.88694163  39525.37049058\n",
      "   7684.3625976    9619.65016418  40500.59225988   7742.32347915\n",
      "  10912.41054823  11499.44121086  20667.77981431   7762.92336296\n",
      "  10116.51466367  30538.88694546   7592.26138398  10083.01792922\n",
      "  30538.88694546   8064.00081742  20541.10624586   5689.37854465\n",
      "   1887.36792255  -1775.32297697   5650.97959938   8912.62278456\n",
      "   8762.02880356  12393.30984752  -1001.30671099  42776.23319733\n",
      "  12621.01674717    844.55903967  12223.35627812   7695.39143493\n",
      "  11199.18205635  13243.92503418  31060.92298548  12835.63310364\n",
      "  31589.23150446   8069.07697759  47343.5196019    1879.20214222\n",
      "    775.56932079   6434.88161668   7321.70589227   7943.99616416\n",
      "  32939.51103998  18583.8280418    6984.38014105  10985.04497193\n",
      "  38115.73854049   8143.37912976   5880.64834372  12325.37716828\n",
      "   -547.18267969   6688.29416336  11942.51875858   1787.65013285\n",
      "  12714.77392344   9203.47307612   5580.58638803  38057.46879151\n",
      "   1275.74887932  12920.24830926   9880.4338704    2444.97886047\n",
      "   1233.08338458  11949.18617727  11132.61693195   5385.72860468\n",
      "   6064.10997112  12918.72114556  14952.63428182   7226.07099273\n",
      "  24833.87303235  30859.54342045  15215.69840103   1094.19503239\n",
      "   7696.52658467   8932.18472084  13282.8453517   22783.3713809\n",
      "   6807.66650902   9892.15835261   9482.66857896   7072.47521165\n",
      "  11223.25064476   1386.41082293  11754.79468843  12441.53109775\n",
      "   8070.88476865   7571.47784086   6781.98252876   1825.23946742\n",
      "  13035.31433827   9592.18108034   8111.74247234  18380.12591294\n",
      "   1023.31182552  11072.78626341  10780.05264535  39207.85560109\n",
      "  10645.67548437   7767.73911668   7289.34430756   8500.95967491\n",
      "  30434.90796817   7508.79840779   7577.69886074   1268.71824874\n",
      "  11384.73689724   6374.42322306  40295.1007898    9086.51513918\n",
      "   5823.41238946   7140.74000324  40625.09235879   7677.50769006\n",
      "  30975.04739609  17317.25337753  -1598.62363742  11322.64289541\n",
      "  37692.287868     9169.79268236  12220.47453255   9758.85914506\n",
      "   1982.08653792  12162.513651     9659.36791851  24594.56307061\n",
      "   8227.0689078    3424.31106712   2069.05873886   7439.39846646\n",
      "  18235.31524681  10206.1219126   10094.13780618   6424.98792909\n",
      "   9607.56115056   5084.47585953   3492.33692803  12298.78460142\n",
      "  15787.65098421   4652.59908607   7775.82992356  12889.69684866\n",
      "  12322.87171993   8974.85021559   6533.78979567  45303.66592964\n",
      "   7587.98512454   5913.63587981  18065.93555109  19609.78959237\n",
      "   6773.71777253   6541.955576    28362.80236715   1975.56196904\n",
      "  12053.37407147   1322.41258081   1530.84755368  27807.82338401\n",
      "  11211.63307472   5249.81199536  10636.85975021   -844.9468488\n",
      "   1365.07807556   8642.38175896   6660.83301579   8966.76911868\n",
      "  -2907.84424726   2480.5172754   14769.07488567   9801.5246398\n",
      "  37380.72332263  14721.01361557  10372.616318     1557.33320837\n",
      "  10327.89737695   6720.11270639  11044.67768867   8412.09266647\n",
      "   7693.25330521   1746.31315712   6660.83301579  12145.5599685\n",
      "  25276.05194216  11478.38538764  25386.46900533   3541.5611556\n",
      "   8845.41503261  13276.8177011    7635.47608297   6734.67522964\n",
      "   8744.2297421    1305.71370154   5860.77516088   8606.03626\n",
      "   6511.06149211   6318.32419223   7386.55885495  32437.03854248\n",
      "  10616.25193012   1853.60284537  -1715.59128433   6082.26841493\n",
      "  12075.15321765  12725.1472037   18528.46187453  11256.2343513\n",
      "   9017.51571033   7449.7023765    7374.67529705  10997.74564445\n",
      "   8305.40109762  10690.42625632  35241.3122489   20498.43281484\n",
      "   2777.04731886  13092.99773367   6931.49541968  15973.42469068\n",
      "   8069.07697759  12625.81775423  19617.86372308  14085.11408456\n",
      "  -1873.56846333   5379.68330783  25303.26442482  11990.31326602\n",
      "  13024.58904995   6429.26241484   2786.2063692   18645.7871301\n",
      "  20713.46218098  30962.72197846 152286.30230445   6926.67789227]\n"
     ]
    }
   ],
   "source": [
    "print('predicted response:', y_pred, sep='\\n')\n"
   ]
  },
  {
   "cell_type": "code",
   "execution_count": 74,
   "id": "a030071b",
   "metadata": {},
   "outputs": [
    {
     "name": "stdout",
     "output_type": "stream",
     "text": [
      "Mean Absolute Error:  3851.465475431103\n"
     ]
    }
   ],
   "source": [
    "print('Mean Absolute Error: ',mean_absolute_error(y_test,y_pred))\n"
   ]
  },
  {
   "cell_type": "code",
   "execution_count": 75,
   "id": "9c1be073",
   "metadata": {},
   "outputs": [
    {
     "name": "stdout",
     "output_type": "stream",
     "text": [
      "Mean Squared Error:  81088422.28886227\n"
     ]
    }
   ],
   "source": [
    "print('Mean Squared Error: ',mean_squared_error(y_test,y_pred))\n"
   ]
  },
  {
   "cell_type": "code",
   "execution_count": 76,
   "id": "da24ede3",
   "metadata": {},
   "outputs": [
    {
     "name": "stdout",
     "output_type": "stream",
     "text": [
      "Root Mean Squared Error:  9004.911009491558\n"
     ]
    }
   ],
   "source": [
    "print(\"Root Mean Squared Error: \",np.sqrt(mean_squared_error(y_test,y_pred)))\n"
   ]
  },
  {
   "cell_type": "code",
   "execution_count": 77,
   "id": "49384b1a",
   "metadata": {},
   "outputs": [
    {
     "data": {
      "text/html": [
       "<div>\n",
       "<style scoped>\n",
       "    .dataframe tbody tr th:only-of-type {\n",
       "        vertical-align: middle;\n",
       "    }\n",
       "\n",
       "    .dataframe tbody tr th {\n",
       "        vertical-align: top;\n",
       "    }\n",
       "\n",
       "    .dataframe thead th {\n",
       "        text-align: right;\n",
       "    }\n",
       "</style>\n",
       "<table border=\"1\" class=\"dataframe\">\n",
       "  <thead>\n",
       "    <tr style=\"text-align: right;\">\n",
       "      <th></th>\n",
       "      <th>Actual</th>\n",
       "      <th>Preicted</th>\n",
       "    </tr>\n",
       "  </thead>\n",
       "  <tbody>\n",
       "    <tr>\n",
       "      <th>955</th>\n",
       "      <td>30400.0</td>\n",
       "      <td>30463.606834</td>\n",
       "    </tr>\n",
       "    <tr>\n",
       "      <th>332</th>\n",
       "      <td>5500.0</td>\n",
       "      <td>7967.824650</td>\n",
       "    </tr>\n",
       "    <tr>\n",
       "      <th>958</th>\n",
       "      <td>32500.0</td>\n",
       "      <td>25351.913245</td>\n",
       "    </tr>\n",
       "    <tr>\n",
       "      <th>206</th>\n",
       "      <td>4550.0</td>\n",
       "      <td>3091.001169</td>\n",
       "    </tr>\n",
       "    <tr>\n",
       "      <th>742</th>\n",
       "      <td>11500.0</td>\n",
       "      <td>13087.318713</td>\n",
       "    </tr>\n",
       "    <tr>\n",
       "      <th>...</th>\n",
       "      <td>...</td>\n",
       "      <td>...</td>\n",
       "    </tr>\n",
       "    <tr>\n",
       "      <th>941</th>\n",
       "      <td>26200.0</td>\n",
       "      <td>18645.787130</td>\n",
       "    </tr>\n",
       "    <tr>\n",
       "      <th>860</th>\n",
       "      <td>17000.0</td>\n",
       "      <td>20713.462181</td>\n",
       "    </tr>\n",
       "    <tr>\n",
       "      <th>947</th>\n",
       "      <td>29000.0</td>\n",
       "      <td>30962.721978</td>\n",
       "    </tr>\n",
       "    <tr>\n",
       "      <th>791</th>\n",
       "      <td>13000.0</td>\n",
       "      <td>152286.302304</td>\n",
       "    </tr>\n",
       "    <tr>\n",
       "      <th>527</th>\n",
       "      <td>7403.0</td>\n",
       "      <td>6926.677892</td>\n",
       "    </tr>\n",
       "  </tbody>\n",
       "</table>\n",
       "<p>400 rows × 2 columns</p>\n",
       "</div>"
      ],
      "text/plain": [
       "      Actual       Preicted\n",
       "955  30400.0   30463.606834\n",
       "332   5500.0    7967.824650\n",
       "958  32500.0   25351.913245\n",
       "206   4550.0    3091.001169\n",
       "742  11500.0   13087.318713\n",
       "..       ...            ...\n",
       "941  26200.0   18645.787130\n",
       "860  17000.0   20713.462181\n",
       "947  29000.0   30962.721978\n",
       "791  13000.0  152286.302304\n",
       "527   7403.0    6926.677892\n",
       "\n",
       "[400 rows x 2 columns]"
      ]
     },
     "execution_count": 77,
     "metadata": {},
     "output_type": "execute_result"
    }
   ],
   "source": [
    "df3=pd.DataFrame({\"Actual\":y_test,\"Preicted\":y_pred})\n",
    "df3\n"
   ]
  },
  {
   "cell_type": "code",
   "execution_count": 78,
   "id": "b1abed84",
   "metadata": {
    "scrolled": false
   },
   "outputs": [
    {
     "data": {
      "text/plain": [
       "<AxesSubplot:xlabel='RentPerMonth'>"
      ]
     },
     "execution_count": 78,
     "metadata": {},
     "output_type": "execute_result"
    },
    {
     "data": {
      "image/png": "[encoded data removed]",
      "text/plain": [
       "<Figure size 1440x1440 with 1 Axes>"
      ]
     },
     "metadata": {
      "needs_background": "light"
     },
     "output_type": "display_data"
    }
   ],
   "source": [
    "mlp.figure(figsize=(20,20))\n",
    "sns.scatterplot(y_test,y_pred)\n",
    "sns.regplot(y_test,y_pred,ci=None)"
   ]
  },
  {
   "cell_type": "markdown",
   "id": "954ad33f",
   "metadata": {},
   "source": [
    "<b>80:20</b>"
   ]
  },
  {
   "cell_type": "code",
   "execution_count": 79,
   "id": "7246e4b0",
   "metadata": {},
   "outputs": [],
   "source": [
    "X_train,X_test,y_train,y_test=train_test_split(X,y,test_size=0.2)\n"
   ]
  },
  {
   "cell_type": "code",
   "execution_count": 80,
   "id": "124b9fea",
   "metadata": {},
   "outputs": [
    {
     "data": {
      "text/html": [
       "<div>\n",
       "<style scoped>\n",
       "    .dataframe tbody tr th:only-of-type {\n",
       "        vertical-align: middle;\n",
       "    }\n",
       "\n",
       "    .dataframe tbody tr th {\n",
       "        vertical-align: top;\n",
       "    }\n",
       "\n",
       "    .dataframe thead th {\n",
       "        text-align: right;\n",
       "    }\n",
       "</style>\n",
       "<table border=\"1\" class=\"dataframe\">\n",
       "  <thead>\n",
       "    <tr style=\"text-align: right;\">\n",
       "      <th></th>\n",
       "      <th>BuildingType</th>\n",
       "      <th>Location</th>\n",
       "      <th>Size</th>\n",
       "      <th>AreaSqFt</th>\n",
       "      <th>NoOfBath</th>\n",
       "      <th>NoOfPeople</th>\n",
       "      <th>NoOfBalcony</th>\n",
       "    </tr>\n",
       "  </thead>\n",
       "  <tbody>\n",
       "    <tr>\n",
       "      <th>759</th>\n",
       "      <td>4</td>\n",
       "      <td>1</td>\n",
       "      <td>3</td>\n",
       "      <td>1800.0</td>\n",
       "      <td>3</td>\n",
       "      <td>2</td>\n",
       "      <td>3</td>\n",
       "    </tr>\n",
       "    <tr>\n",
       "      <th>234</th>\n",
       "      <td>5</td>\n",
       "      <td>1</td>\n",
       "      <td>2</td>\n",
       "      <td>1202.0</td>\n",
       "      <td>2</td>\n",
       "      <td>1</td>\n",
       "      <td>1</td>\n",
       "    </tr>\n",
       "    <tr>\n",
       "      <th>246</th>\n",
       "      <td>5</td>\n",
       "      <td>1</td>\n",
       "      <td>3</td>\n",
       "      <td>1385.0</td>\n",
       "      <td>2</td>\n",
       "      <td>2</td>\n",
       "      <td>2</td>\n",
       "    </tr>\n",
       "    <tr>\n",
       "      <th>674</th>\n",
       "      <td>1</td>\n",
       "      <td>1</td>\n",
       "      <td>2</td>\n",
       "      <td>1270.0</td>\n",
       "      <td>2</td>\n",
       "      <td>2</td>\n",
       "      <td>1</td>\n",
       "    </tr>\n",
       "    <tr>\n",
       "      <th>595</th>\n",
       "      <td>1</td>\n",
       "      <td>1</td>\n",
       "      <td>3</td>\n",
       "      <td>1535.0</td>\n",
       "      <td>3</td>\n",
       "      <td>2</td>\n",
       "      <td>2</td>\n",
       "    </tr>\n",
       "    <tr>\n",
       "      <th>...</th>\n",
       "      <td>...</td>\n",
       "      <td>...</td>\n",
       "      <td>...</td>\n",
       "      <td>...</td>\n",
       "      <td>...</td>\n",
       "      <td>...</td>\n",
       "      <td>...</td>\n",
       "    </tr>\n",
       "    <tr>\n",
       "      <th>701</th>\n",
       "      <td>1</td>\n",
       "      <td>1</td>\n",
       "      <td>3</td>\n",
       "      <td>1550.0</td>\n",
       "      <td>3</td>\n",
       "      <td>2</td>\n",
       "      <td>3</td>\n",
       "    </tr>\n",
       "    <tr>\n",
       "      <th>680</th>\n",
       "      <td>1</td>\n",
       "      <td>1</td>\n",
       "      <td>3</td>\n",
       "      <td>1620.0</td>\n",
       "      <td>3</td>\n",
       "      <td>2</td>\n",
       "      <td>2</td>\n",
       "    </tr>\n",
       "    <tr>\n",
       "      <th>280</th>\n",
       "      <td>3</td>\n",
       "      <td>2</td>\n",
       "      <td>3</td>\n",
       "      <td>1280.0</td>\n",
       "      <td>3</td>\n",
       "      <td>2</td>\n",
       "      <td>1</td>\n",
       "    </tr>\n",
       "    <tr>\n",
       "      <th>61</th>\n",
       "      <td>3</td>\n",
       "      <td>0</td>\n",
       "      <td>2</td>\n",
       "      <td>850.0</td>\n",
       "      <td>2</td>\n",
       "      <td>1</td>\n",
       "      <td>1</td>\n",
       "    </tr>\n",
       "    <tr>\n",
       "      <th>290</th>\n",
       "      <td>5</td>\n",
       "      <td>2</td>\n",
       "      <td>2</td>\n",
       "      <td>1070.0</td>\n",
       "      <td>2</td>\n",
       "      <td>2</td>\n",
       "      <td>1</td>\n",
       "    </tr>\n",
       "  </tbody>\n",
       "</table>\n",
       "<p>800 rows × 7 columns</p>\n",
       "</div>"
      ],
      "text/plain": [
       "     BuildingType  Location  Size  AreaSqFt  NoOfBath  NoOfPeople  NoOfBalcony\n",
       "759             4         1     3    1800.0         3           2            3\n",
       "234             5         1     2    1202.0         2           1            1\n",
       "246             5         1     3    1385.0         2           2            2\n",
       "674             1         1     2    1270.0         2           2            1\n",
       "595             1         1     3    1535.0         3           2            2\n",
       "..            ...       ...   ...       ...       ...         ...          ...\n",
       "701             1         1     3    1550.0         3           2            3\n",
       "680             1         1     3    1620.0         3           2            2\n",
       "280             3         2     3    1280.0         3           2            1\n",
       "61              3         0     2     850.0         2           1            1\n",
       "290             5         2     2    1070.0         2           2            1\n",
       "\n",
       "[800 rows x 7 columns]"
      ]
     },
     "execution_count": 80,
     "metadata": {},
     "output_type": "execute_result"
    }
   ],
   "source": [
    "X_train\n"
   ]
  },
  {
   "cell_type": "code",
   "execution_count": 81,
   "id": "3881eb39",
   "metadata": {},
   "outputs": [
    {
     "data": {
      "text/plain": [
       "759    12000.0\n",
       "234     4800.0\n",
       "246     4848.0\n",
       "674     9800.0\n",
       "595     8300.0\n",
       "        ...   \n",
       "701    10000.0\n",
       "680     9800.0\n",
       "280     5040.0\n",
       "61      3000.0\n",
       "290     5200.0\n",
       "Name: RentPerMonth, Length: 800, dtype: float64"
      ]
     },
     "execution_count": 81,
     "metadata": {},
     "output_type": "execute_result"
    }
   ],
   "source": [
    "y_train\n"
   ]
  },
  {
   "cell_type": "code",
   "execution_count": 82,
   "id": "b9e1c935",
   "metadata": {},
   "outputs": [],
   "source": [
    "model=LinearRegression()\n"
   ]
  },
  {
   "cell_type": "code",
   "execution_count": 83,
   "id": "ccabb7ae",
   "metadata": {},
   "outputs": [
    {
     "data": {
      "text/plain": [
       "LinearRegression()"
      ]
     },
     "execution_count": 83,
     "metadata": {},
     "output_type": "execute_result"
    }
   ],
   "source": [
    "model.fit(X_train,y_train)\n"
   ]
  },
  {
   "cell_type": "code",
   "execution_count": 84,
   "id": "d7022cd7",
   "metadata": {},
   "outputs": [
    {
     "name": "stdout",
     "output_type": "stream",
     "text": [
      "intercept: -13022.12331282598\n"
     ]
    }
   ],
   "source": [
    "print('intercept:', model.intercept_)\n"
   ]
  },
  {
   "cell_type": "code",
   "execution_count": 85,
   "id": "0961db6b",
   "metadata": {},
   "outputs": [
    {
     "name": "stdout",
     "output_type": "stream",
     "text": [
      "slope: [ 7.23334404e+02 -5.08466158e+02 -5.23940194e+02  9.66146715e-01\n",
      "  2.20439612e+03  7.06209952e+03  7.09645712e+01]\n"
     ]
    }
   ],
   "source": [
    "print('slope:', model.coef_)\n"
   ]
  },
  {
   "cell_type": "code",
   "execution_count": 86,
   "id": "b749f527",
   "metadata": {},
   "outputs": [],
   "source": [
    "r_Sq=model.score(X_test,y_test)\n"
   ]
  },
  {
   "cell_type": "code",
   "execution_count": 87,
   "id": "15d73672",
   "metadata": {},
   "outputs": [
    {
     "name": "stdout",
     "output_type": "stream",
     "text": [
      "Coefficient of determination:  0.6326540060834407\n"
     ]
    }
   ],
   "source": [
    "print(\"Coefficient of determination: \",r_Sq)\n",
    "\n"
   ]
  },
  {
   "cell_type": "code",
   "execution_count": 88,
   "id": "4617a02a",
   "metadata": {},
   "outputs": [],
   "source": [
    "y_pred = model.predict(X_test)\n"
   ]
  },
  {
   "cell_type": "code",
   "execution_count": 89,
   "id": "c5322adf",
   "metadata": {},
   "outputs": [
    {
     "name": "stdout",
     "output_type": "stream",
     "text": [
      "predicted response:\n",
      "[-8.60408955e+02  6.10186165e+03  1.96151066e+02  1.08080173e+04\n",
      "  7.39766496e+03  8.50990437e+03  2.39712729e+04  3.27183375e+04\n",
      "  8.14752104e+03  1.52112638e+04  5.64845017e+03  8.89665231e+03\n",
      "  8.40145475e+03  2.55466276e+04  1.57282145e+03 -8.60408955e+02\n",
      "  8.67593499e+03  1.62329746e+04  1.07615159e+04  7.11777621e+03\n",
      "  1.09790253e+04  5.43589789e+03  1.53295173e+04  3.10208125e+04\n",
      "  6.10529038e+03  6.08002553e+02  6.37511830e+03  1.92037697e+03\n",
      " -1.25366243e+01  7.95936419e+03  1.14046236e+04  1.38566837e+04\n",
      "  7.06598739e+03  7.92704549e+03  1.57370684e+04  1.76533230e+04\n",
      "  1.11112245e+04  1.32543385e+04  9.87792749e+03  1.25267511e+04\n",
      " -1.51589902e+03  1.05916004e+04  6.99256024e+03  7.60278087e+03\n",
      "  7.94946096e+03  1.04454393e+04  4.40732375e+02  7.50017094e+03\n",
      "  1.22628621e+04  9.28918086e+03  1.85775434e+04  8.60792105e+03\n",
      "  1.49233681e+04  1.54399993e+04 -3.50960961e+02  1.57694815e+04\n",
      "  6.84667209e+03  1.62742209e+04  1.99485367e+02  8.87501340e+03\n",
      "  8.56676042e+03  1.01451143e+04 -1.65835845e+03  6.45530848e+03\n",
      "  3.10134560e+04  1.68963078e+03  9.92922769e+03  1.46525580e+04\n",
      "  1.90992762e+04  1.02585661e+03  8.73056950e+03  1.52562368e+04\n",
      "  3.04431407e+04  2.22446574e+01  9.23420492e+03  1.00663261e+04\n",
      "  1.03967483e+04 -1.88623758e+03  3.20334026e+04  6.78967124e+02\n",
      "  8.02042553e+03  1.53723691e+04  6.56061847e+03 -1.40194787e+02\n",
      "  3.63730309e+02  7.18728602e+03  2.24640427e+03  9.70664654e+03\n",
      "  8.82085700e+03  1.20924731e+04  8.37903928e+03  8.85800644e+03\n",
      "  8.64485130e+03  1.00687887e+04  1.03638993e+04  1.82617840e+04\n",
      "  3.37464972e+04  1.30172650e+04  1.98002223e+04  8.42200128e+03\n",
      "  8.04607563e+03  8.85800644e+03  1.31673899e+04  1.79924876e+04\n",
      "  8.35537366e+03  1.52295684e+04  8.97244761e+03  8.40245739e+03\n",
      "  8.18097920e+03  1.07395153e+04  1.31905320e+04  5.97041822e+03\n",
      "  1.07489560e+04  4.05384421e+04  2.62013244e+04  7.02207493e+03\n",
      "  8.25635433e+03  1.26556702e+04  1.05315730e+04  1.63271267e+04\n",
      "  1.57134977e+04  1.72911741e+04 -1.51589902e+03  1.78082834e+04\n",
      "  1.07728523e+04  1.63649271e+03  2.52606685e+04  8.97544048e+03\n",
      "  7.38935316e+03  8.15955066e+03  6.08002553e+02 -1.35027710e+01\n",
      "  7.68331297e+02  8.83534920e+03  8.66293923e+03  1.90125375e+04\n",
      "  1.58445684e+04  8.31846071e+03  8.20205174e+03  6.09992936e+03\n",
      "  2.91458881e+04  1.71589748e+04  8.36403248e+03  8.83385277e+03\n",
      "  1.45429475e+04  2.56250466e+04  8.91447881e+03  2.63781336e+02\n",
      "  7.78120895e+03  1.05261174e+04  1.31620289e+04 -1.25087471e+03\n",
      "  1.05775012e+04  1.31694694e+04  1.11826249e+04  7.69866688e+03\n",
      "  6.54902471e+03  7.14714372e+03  3.67387435e+04  1.05378057e+04\n",
      "  1.06121990e+04  8.93824880e+03  8.05404599e+03  2.37274881e+04\n",
      "  1.52839456e+04  1.72588554e+04  6.18441999e+03  7.68942501e+03\n",
      "  1.45417402e+04  1.51426516e+04  1.30970084e+04 -5.21018471e+02\n",
      "  5.80514584e+02  1.36499918e+04  1.10995520e+04 -2.80655522e+03\n",
      "  8.87249864e+03  8.82902204e+03  1.09187405e+04  1.43231650e+04\n",
      " -6.43994820e+01  8.28493937e+03  6.22087102e+03  5.00472347e+03\n",
      "  1.41495173e+03  2.07399430e+03  6.51440588e+03  3.72554802e+04\n",
      "  8.44990885e+03  7.94216765e+03  1.08308211e+04  9.37903250e+03\n",
      "  8.84351424e+03  8.65327776e+03  1.52822283e+04  1.06037767e+04\n",
      "  1.09520253e+04 -1.58836003e+03  1.31890810e+04  2.26017904e+04]\n"
     ]
    }
   ],
   "source": [
    "print('predicted response:', y_pred, sep='\\n')\n"
   ]
  },
  {
   "cell_type": "code",
   "execution_count": 90,
   "id": "77a16de6",
   "metadata": {},
   "outputs": [
    {
     "name": "stdout",
     "output_type": "stream",
     "text": [
      "Mean Absolute Error:  4138.414509930135\n"
     ]
    }
   ],
   "source": [
    "print('Mean Absolute Error: ',mean_absolute_error(y_test,y_pred))\n"
   ]
  },
  {
   "cell_type": "code",
   "execution_count": 91,
   "id": "0d6cabde",
   "metadata": {},
   "outputs": [
    {
     "name": "stdout",
     "output_type": "stream",
     "text": [
      "Mean Squared Error:  30389218.982813563\n"
     ]
    }
   ],
   "source": [
    "print('Mean Squared Error: ',mean_squared_error(y_test,y_pred))\n"
   ]
  },
  {
   "cell_type": "code",
   "execution_count": 92,
   "id": "e672c170",
   "metadata": {},
   "outputs": [
    {
     "name": "stdout",
     "output_type": "stream",
     "text": [
      "Root Mean Squared Error:  5512.641742650574\n"
     ]
    }
   ],
   "source": [
    "print(\"Root Mean Squared Error: \",np.sqrt(mean_squared_error(y_test,y_pred)))\n"
   ]
  },
  {
   "cell_type": "code",
   "execution_count": 93,
   "id": "001590e9",
   "metadata": {},
   "outputs": [
    {
     "data": {
      "text/html": [
       "<div>\n",
       "<style scoped>\n",
       "    .dataframe tbody tr th:only-of-type {\n",
       "        vertical-align: middle;\n",
       "    }\n",
       "\n",
       "    .dataframe tbody tr th {\n",
       "        vertical-align: top;\n",
       "    }\n",
       "\n",
       "    .dataframe thead th {\n",
       "        text-align: right;\n",
       "    }\n",
       "</style>\n",
       "<table border=\"1\" class=\"dataframe\">\n",
       "  <thead>\n",
       "    <tr style=\"text-align: right;\">\n",
       "      <th></th>\n",
       "      <th>Actual</th>\n",
       "      <th>Preicted</th>\n",
       "    </tr>\n",
       "  </thead>\n",
       "  <tbody>\n",
       "    <tr>\n",
       "      <th>86</th>\n",
       "      <td>3500.0</td>\n",
       "      <td>-860.408955</td>\n",
       "    </tr>\n",
       "    <tr>\n",
       "      <th>679</th>\n",
       "      <td>9800.0</td>\n",
       "      <td>6101.861655</td>\n",
       "    </tr>\n",
       "    <tr>\n",
       "      <th>167</th>\n",
       "      <td>4325.0</td>\n",
       "      <td>196.151066</td>\n",
       "    </tr>\n",
       "    <tr>\n",
       "      <th>217</th>\n",
       "      <td>4600.0</td>\n",
       "      <td>10808.017294</td>\n",
       "    </tr>\n",
       "    <tr>\n",
       "      <th>305</th>\n",
       "      <td>5280.0</td>\n",
       "      <td>7397.664965</td>\n",
       "    </tr>\n",
       "    <tr>\n",
       "      <th>...</th>\n",
       "      <td>...</td>\n",
       "      <td>...</td>\n",
       "    </tr>\n",
       "    <tr>\n",
       "      <th>540</th>\n",
       "      <td>7500.0</td>\n",
       "      <td>10603.776662</td>\n",
       "    </tr>\n",
       "    <tr>\n",
       "      <th>645</th>\n",
       "      <td>9145.0</td>\n",
       "      <td>10952.025340</td>\n",
       "    </tr>\n",
       "    <tr>\n",
       "      <th>1</th>\n",
       "      <td>1100.0</td>\n",
       "      <td>-1588.360027</td>\n",
       "    </tr>\n",
       "    <tr>\n",
       "      <th>725</th>\n",
       "      <td>11000.0</td>\n",
       "      <td>13189.080991</td>\n",
       "    </tr>\n",
       "    <tr>\n",
       "      <th>916</th>\n",
       "      <td>23900.0</td>\n",
       "      <td>22601.790439</td>\n",
       "    </tr>\n",
       "  </tbody>\n",
       "</table>\n",
       "<p>200 rows × 2 columns</p>\n",
       "</div>"
      ],
      "text/plain": [
       "      Actual      Preicted\n",
       "86    3500.0   -860.408955\n",
       "679   9800.0   6101.861655\n",
       "167   4325.0    196.151066\n",
       "217   4600.0  10808.017294\n",
       "305   5280.0   7397.664965\n",
       "..       ...           ...\n",
       "540   7500.0  10603.776662\n",
       "645   9145.0  10952.025340\n",
       "1     1100.0  -1588.360027\n",
       "725  11000.0  13189.080991\n",
       "916  23900.0  22601.790439\n",
       "\n",
       "[200 rows x 2 columns]"
      ]
     },
     "execution_count": 93,
     "metadata": {},
     "output_type": "execute_result"
    }
   ],
   "source": [
    "df4=pd.DataFrame({\"Actual\":y_test,\"Preicted\":y_pred})\n",
    "df4\n"
   ]
  },
  {
   "cell_type": "code",
   "execution_count": 94,
   "id": "f0209108",
   "metadata": {
    "scrolled": false
   },
   "outputs": [
    {
     "data": {
      "text/plain": [
       "<AxesSubplot:xlabel='RentPerMonth'>"
      ]
     },
     "execution_count": 94,
     "metadata": {},
     "output_type": "execute_result"
    },
    {
     "data": {
      "image/png": "[encoded data removed]",
      "text/plain": [
       "<Figure size 1440x1440 with 1 Axes>"
      ]
     },
     "metadata": {
      "needs_background": "light"
     },
     "output_type": "display_data"
    }
   ],
   "source": [
    "mlp.figure(figsize=(20,20))\n",
    "sns.scatterplot(y_test,y_pred)\n",
    "sns.regplot(y_test,y_pred,ci=None)"
   ]
  },
  {
   "cell_type": "markdown",
   "id": "712739bc",
   "metadata": {},
   "source": [
    "<b><u>Questions</u></b>\n"
   ]
  },
  {
   "cell_type": "markdown",
   "id": "d292e379",
   "metadata": {},
   "source": [
    "1. What are your observations on the Dataset?"
   ]
  },
  {
   "cell_type": "markdown",
   "id": "ad210856",
   "metadata": {},
   "source": [
    "This is a house prices dataset which has 1000x8 rows and columns. Based on the datas available in the dataset we are trying to predict the rent price using location,size,building type,noofpeople,NoOfbath,Areasqft,NoOfbalcony. Usually we are trying to do multiple regression based on the data available.Here rentpermonth is the dependent data and the rest are the independent data.We are splitting the data into training and testing and applying the regression model so as to find the intercept and slope and the error or residual is calculted by finding the difference between the actual and predicted that is y_test-y_predict."
   ]
  },
  {
   "cell_type": "markdown",
   "id": "1908ba3b",
   "metadata": {},
   "source": [
    "2. What are the different Error Measures (Evaluation Metrics) in relation to Linear Regression? How much do you get in the above cases?"
   ]
  },
  {
   "cell_type": "markdown",
   "id": "1139fa0d",
   "metadata": {},
   "source": [
    "3. Note down the errors/losses when the train-test ratio is 50:50, 60:40, 70:30, and 80:20"
   ]
  },
  {
   "cell_type": "markdown",
   "id": "87c3a0b5",
   "metadata": {},
   "source": [
    "The 2nd and 3rd question is been done above and for each of the test sizes the error measures are calculated and we can see for the train-test-ratio 50:50 the model is not that good as the r_squre is very less and the rest we have a good model."
   ]
  },
  {
   "cell_type": "markdown",
   "id": "814015a1",
   "metadata": {},
   "source": [
    "4. During LinearRegression() process, what is the impact of giving TRUE/FALSE as the value for Normalize Parameter?\n"
   ]
  },
  {
   "cell_type": "markdown",
   "id": "115ea145",
   "metadata": {},
   "source": [
    "<b>normalize=True</b>"
   ]
  },
  {
   "cell_type": "code",
   "execution_count": 114,
   "id": "e151d26b",
   "metadata": {},
   "outputs": [],
   "source": [
    "X_train,X_test,y_train,y_test=train_test_split(X,y,test_size=0.3,\n",
    "                                               random_state=1)\n"
   ]
  },
  {
   "cell_type": "code",
   "execution_count": 115,
   "id": "eadb3d7e",
   "metadata": {},
   "outputs": [
    {
     "data": {
      "text/html": [
       "<div>\n",
       "<style scoped>\n",
       "    .dataframe tbody tr th:only-of-type {\n",
       "        vertical-align: middle;\n",
       "    }\n",
       "\n",
       "    .dataframe tbody tr th {\n",
       "        vertical-align: top;\n",
       "    }\n",
       "\n",
       "    .dataframe thead th {\n",
       "        text-align: right;\n",
       "    }\n",
       "</style>\n",
       "<table border=\"1\" class=\"dataframe\">\n",
       "  <thead>\n",
       "    <tr style=\"text-align: right;\">\n",
       "      <th></th>\n",
       "      <th>BuildingType</th>\n",
       "      <th>Location</th>\n",
       "      <th>Size</th>\n",
       "      <th>AreaSqFt</th>\n",
       "      <th>NoOfBath</th>\n",
       "      <th>NoOfPeople</th>\n",
       "      <th>NoOfBalcony</th>\n",
       "    </tr>\n",
       "  </thead>\n",
       "  <tbody>\n",
       "    <tr>\n",
       "      <th>731</th>\n",
       "      <td>1</td>\n",
       "      <td>1</td>\n",
       "      <td>3</td>\n",
       "      <td>1000.0</td>\n",
       "      <td>4</td>\n",
       "      <td>2</td>\n",
       "      <td>3</td>\n",
       "    </tr>\n",
       "    <tr>\n",
       "      <th>716</th>\n",
       "      <td>1</td>\n",
       "      <td>1</td>\n",
       "      <td>3</td>\n",
       "      <td>1600.0</td>\n",
       "      <td>2</td>\n",
       "      <td>2</td>\n",
       "      <td>1</td>\n",
       "    </tr>\n",
       "    <tr>\n",
       "      <th>640</th>\n",
       "      <td>1</td>\n",
       "      <td>1</td>\n",
       "      <td>3</td>\n",
       "      <td>1799.0</td>\n",
       "      <td>3</td>\n",
       "      <td>2</td>\n",
       "      <td>3</td>\n",
       "    </tr>\n",
       "    <tr>\n",
       "      <th>804</th>\n",
       "      <td>6</td>\n",
       "      <td>0</td>\n",
       "      <td>3</td>\n",
       "      <td>880.0</td>\n",
       "      <td>3</td>\n",
       "      <td>2</td>\n",
       "      <td>1</td>\n",
       "    </tr>\n",
       "    <tr>\n",
       "      <th>737</th>\n",
       "      <td>1</td>\n",
       "      <td>1</td>\n",
       "      <td>3</td>\n",
       "      <td>1691.0</td>\n",
       "      <td>3</td>\n",
       "      <td>2</td>\n",
       "      <td>2</td>\n",
       "    </tr>\n",
       "    <tr>\n",
       "      <th>...</th>\n",
       "      <td>...</td>\n",
       "      <td>...</td>\n",
       "      <td>...</td>\n",
       "      <td>...</td>\n",
       "      <td>...</td>\n",
       "      <td>...</td>\n",
       "      <td>...</td>\n",
       "    </tr>\n",
       "    <tr>\n",
       "      <th>767</th>\n",
       "      <td>6</td>\n",
       "      <td>0</td>\n",
       "      <td>3</td>\n",
       "      <td>1760.0</td>\n",
       "      <td>2</td>\n",
       "      <td>2</td>\n",
       "      <td>2</td>\n",
       "    </tr>\n",
       "    <tr>\n",
       "      <th>72</th>\n",
       "      <td>3</td>\n",
       "      <td>2</td>\n",
       "      <td>2</td>\n",
       "      <td>970.0</td>\n",
       "      <td>2</td>\n",
       "      <td>2</td>\n",
       "      <td>0</td>\n",
       "    </tr>\n",
       "    <tr>\n",
       "      <th>908</th>\n",
       "      <td>0</td>\n",
       "      <td>1</td>\n",
       "      <td>3</td>\n",
       "      <td>1640.0</td>\n",
       "      <td>3</td>\n",
       "      <td>3</td>\n",
       "      <td>2</td>\n",
       "    </tr>\n",
       "    <tr>\n",
       "      <th>235</th>\n",
       "      <td>3</td>\n",
       "      <td>1</td>\n",
       "      <td>3</td>\n",
       "      <td>1330.0</td>\n",
       "      <td>2</td>\n",
       "      <td>1</td>\n",
       "      <td>1</td>\n",
       "    </tr>\n",
       "    <tr>\n",
       "      <th>37</th>\n",
       "      <td>5</td>\n",
       "      <td>2</td>\n",
       "      <td>2</td>\n",
       "      <td>1015.0</td>\n",
       "      <td>2</td>\n",
       "      <td>1</td>\n",
       "      <td>2</td>\n",
       "    </tr>\n",
       "  </tbody>\n",
       "</table>\n",
       "<p>700 rows × 7 columns</p>\n",
       "</div>"
      ],
      "text/plain": [
       "     BuildingType  Location  Size  AreaSqFt  NoOfBath  NoOfPeople  NoOfBalcony\n",
       "731             1         1     3    1000.0         4           2            3\n",
       "716             1         1     3    1600.0         2           2            1\n",
       "640             1         1     3    1799.0         3           2            3\n",
       "804             6         0     3     880.0         3           2            1\n",
       "737             1         1     3    1691.0         3           2            2\n",
       "..            ...       ...   ...       ...       ...         ...          ...\n",
       "767             6         0     3    1760.0         2           2            2\n",
       "72              3         2     2     970.0         2           2            0\n",
       "908             0         1     3    1640.0         3           3            2\n",
       "235             3         1     3    1330.0         2           1            1\n",
       "37              5         2     2    1015.0         2           1            2\n",
       "\n",
       "[700 rows x 7 columns]"
      ]
     },
     "execution_count": 115,
     "metadata": {},
     "output_type": "execute_result"
    }
   ],
   "source": [
    "X_train\n"
   ]
  },
  {
   "cell_type": "code",
   "execution_count": 116,
   "id": "b2c26318",
   "metadata": {},
   "outputs": [
    {
     "data": {
      "text/plain": [
       "731    11000.0\n",
       "716    10800.0\n",
       "640     9000.0\n",
       "804    14000.0\n",
       "737    11300.0\n",
       "        ...   \n",
       "767    12300.0\n",
       "72      3300.0\n",
       "908    22900.0\n",
       "235     4800.0\n",
       "37      2588.0\n",
       "Name: RentPerMonth, Length: 700, dtype: float64"
      ]
     },
     "execution_count": 116,
     "metadata": {},
     "output_type": "execute_result"
    }
   ],
   "source": [
    "y_train\n"
   ]
  },
  {
   "cell_type": "code",
   "execution_count": 151,
   "id": "5b0588f8",
   "metadata": {},
   "outputs": [],
   "source": [
    "model=LinearRegression(normalize=True)\n"
   ]
  },
  {
   "cell_type": "code",
   "execution_count": 152,
   "id": "9854b02b",
   "metadata": {},
   "outputs": [
    {
     "data": {
      "text/plain": [
       "LinearRegression(normalize=True)"
      ]
     },
     "execution_count": 152,
     "metadata": {},
     "output_type": "execute_result"
    }
   ],
   "source": [
    "model.fit(X_train,y_train)\n"
   ]
  },
  {
   "cell_type": "code",
   "execution_count": 153,
   "id": "ccace8ec",
   "metadata": {},
   "outputs": [
    {
     "name": "stdout",
     "output_type": "stream",
     "text": [
      "intercept: -11546.831990327215\n"
     ]
    }
   ],
   "source": [
    "print('intercept:', model.intercept_)\n"
   ]
  },
  {
   "cell_type": "code",
   "execution_count": 154,
   "id": "7d65b551",
   "metadata": {},
   "outputs": [
    {
     "name": "stdout",
     "output_type": "stream",
     "text": [
      "slope: [ 5.26298461e+02 -6.65784952e+02 -3.43092300e+02  8.91489619e-01\n",
      "  2.25021862e+03  6.30015567e+03  1.97904243e+02]\n"
     ]
    }
   ],
   "source": [
    "print('slope:', model.coef_)\n"
   ]
  },
  {
   "cell_type": "code",
   "execution_count": 155,
   "id": "6671cb9b",
   "metadata": {},
   "outputs": [],
   "source": [
    "r_Sq=model.score(X_test,y_test)\n"
   ]
  },
  {
   "cell_type": "code",
   "execution_count": 156,
   "id": "569ec2c6",
   "metadata": {},
   "outputs": [
    {
     "name": "stdout",
     "output_type": "stream",
     "text": [
      "Coefficient of determination:  0.7191945723731721\n"
     ]
    }
   ],
   "source": [
    "print(\"Coefficient of determination: \",r_Sq)\n"
   ]
  },
  {
   "cell_type": "code",
   "execution_count": 157,
   "id": "6d413174",
   "metadata": {},
   "outputs": [],
   "source": [
    "\n",
    "y_pred = model.predict(X_test)\n"
   ]
  },
  {
   "cell_type": "code",
   "execution_count": 158,
   "id": "cd8439a1",
   "metadata": {},
   "outputs": [
    {
     "name": "stdout",
     "output_type": "stream",
     "text": [
      "predicted response:\n",
      "[13952.67268405 24395.01943668  7051.6860551   7947.02817522\n",
      "  8494.27159836 17428.52624753  1792.06056352 11138.18245309\n",
      "  7755.50924829  -977.12976526  7900.54596482  9198.13925001\n",
      " 29452.05025543  2263.17473931 40956.77278599  6825.66180158\n",
      "   416.75085131 -1113.50108605  8827.38054448  5832.50072435\n",
      "  8637.63814424  7396.5347439   8849.66778495 14539.3108591\n",
      "  7612.26877909  7005.73625202   169.92837764  8099.91360055\n",
      "  8514.29847961  5371.29754626 17413.38382912  8738.37647116\n",
      "  8453.10624571  6177.80116572 13948.08403318 13470.81750082\n",
      "  3613.57906426  9872.03385673 12384.74155647  8457.5636938\n",
      " 13389.84826453  9506.92714953  1088.90098041   574.53806127\n",
      "  4798.31558582  6373.91597674  7630.22977424 -1281.79994134\n",
      "  8102.56793108 42915.52036694  7839.72983465  -919.18294004\n",
      " 14172.86416733   841.12368419   565.62316509  8895.93435784\n",
      " 12351.03927032  8148.22324865  6844.86046355  8102.4367283\n",
      "  7463.39646531  8321.32261232  8456.82258182 11492.26658787\n",
      " 15654.28050182 17145.00878984  7033.8361244  11574.02635334\n",
      "  8113.45515352  -360.35660442  9321.64864993  8572.84743503\n",
      "  7234.97383426 24670.99289644 10562.75753935  1235.0308929\n",
      "  1653.87967261 10211.32224602 13862.08692014 15826.84544151\n",
      "   688.64873247 12106.89128093 10172.85698963 10218.32296019\n",
      " 27804.17824463 39578.77501304  9978.51225275 12977.71335571\n",
      " 11745.68115515  6126.09476783  5777.63339135  1518.37325056\n",
      "  9364.44511412 28686.66982008 15033.31989464  7515.24051852\n",
      " 10746.81851045  7795.03060348  1747.48608258  2570.16675448\n",
      "  8299.03537185 -1490.50667147 18541.40407665  1594.23793892\n",
      " 14667.96049206 16361.58290918  8163.53540235  7755.03832087\n",
      "  1909.73074064 29423.19196468 10189.78883984  4968.01819971\n",
      " 29563.33511667 -1056.35767969 11854.43643609  2083.5712163\n",
      "  9927.82854725  6909.0477161   7130.54479864  7372.60217952\n",
      "  7633.2504203   8058.33962734 -1726.75142044  1996.85182233\n",
      "  8456.9537846   7135.45948839 17338.64262623 16882.87134595\n",
      " 14169.17345863 12432.52243329 15409.31005549  1728.88955081\n",
      "  9759.21225908 -2276.64272155 36279.43090498 16959.03229484\n",
      " 11534.80081011 14773.23740499  7370.39218554  9198.1141492\n",
      "  6579.6106668   8246.43748435 32237.16264712  6265.1606958\n",
      "   721.63384837 12685.79866645 11429.85403983 21455.51939414\n",
      "  8515.19642178  7838.88280349 11107.29990275 39411.61731548\n",
      "  -923.62024981  6360.67483523   578.99550937  7147.33635979\n",
      "  8897.80822436  9250.09796487  6772.17242445  8959.47138569\n",
      "  8285.66302757  2313.42419683   545.24365408  7790.88725263\n",
      " 20497.01671288  7588.20501193  8106.48006675  8229.34880395\n",
      " 17170.8912368   1291.13146854  1602.25489294  2164.5454305\n",
      " 10063.20376653  7831.90771673  6477.32877251  2052.36907964\n",
      "  1514.81374464  7665.75815621 13874.98833699 13999.2694079\n",
      "  9540.3767403   1078.07190221 12240.61472375  7559.97130305\n",
      "  5911.24576971  7985.2374786   2018.49247413  5883.64627099\n",
      "  7552.54542718 26435.74513604  8658.14885802 17860.77945149\n",
      "  1604.84774358  8466.47858999 32272.69519172 13127.18634051\n",
      " 13029.29218686  8637.63814424 10063.20376653  1949.84777348\n",
      "  8286.55451719 39795.08312837 31695.72507955  -364.81405251\n",
      "  7552.54542718 14038.44503446  -651.8672572   8272.29068329\n",
      " 11116.20834639 34403.79127875  6794.55418824  7922.83320529\n",
      " 12175.61759979 14270.79682261 17767.94341694 11547.77691234\n",
      "  9915.21648981  2510.43695002 22695.70325479   409.6124818\n",
      "  8887.50142877 14575.68723569  8165.31192904 19186.80951719\n",
      "  6279.4245297  16722.60677396   836.62955663 12303.89758157\n",
      " 38132.78530398 14762.7120505   2076.18794584  1640.50732833\n",
      " 12879.64949765  7615.84119012 10341.34207503 16445.47745666\n",
      "  8963.03734417  8475.39348618  7532.63684361 -1489.61518185\n",
      "  5238.45365143  1235.86556473 13866.39302713  6036.05431634\n",
      " 10390.56980362  9671.2679206  18548.88832297  7656.56035316\n",
      "  7638.54254023  9149.2018443   8452.36513373  9271.30466909\n",
      "  7524.49513936  5831.1429068  34996.4389076   7798.59656196\n",
      " 27157.29203507 10407.32521192 15386.14288863  7840.82261292\n",
      "   839.30402549 19224.6546276   1373.0604427  -1679.34467699\n",
      "  9369.78263679  5681.38633662  8732.14798546 15189.33057792\n",
      "  7309.31364982  -158.11506424 13360.75016807   783.05210874\n",
      " 11852.01332073  2344.62633349 16049.39825988  6036.18551911\n",
      " 13854.52720777  6623.38818144 12322.33728316  8332.14523797\n",
      "  8610.89345568 13135.26760636  6714.22559923  8245.54599473\n",
      "  6186.70960935  7927.29065338 17147.71347018  1622.67753595\n",
      " 10106.3213071  33670.95163817 13537.43432128  1078.07835476\n",
      "  8942.53308294  5471.0076917  15386.14288863  9524.00388829\n",
      " 14938.69724483  1102.14212192  7864.5603412   7225.97731986]\n"
     ]
    }
   ],
   "source": [
    "print('predicted response:', y_pred, sep='\\n')\n"
   ]
  },
  {
   "cell_type": "code",
   "execution_count": 160,
   "id": "13016ae6",
   "metadata": {},
   "outputs": [
    {
     "name": "stdout",
     "output_type": "stream",
     "text": [
      "Mean Absolute Error:  3753.9878528993863\n"
     ]
    }
   ],
   "source": [
    "print('Mean Absolute Error: ',mean_absolute_error(y_test,y_pred))\n"
   ]
  },
  {
   "cell_type": "code",
   "execution_count": 161,
   "id": "fefcc424",
   "metadata": {},
   "outputs": [
    {
     "name": "stdout",
     "output_type": "stream",
     "text": [
      "Mean Squared Error:  37407498.55899726\n"
     ]
    }
   ],
   "source": [
    "print('Mean Squared Error: ',mean_squared_error(y_test,y_pred))\n"
   ]
  },
  {
   "cell_type": "code",
   "execution_count": 162,
   "id": "0e3a77ec",
   "metadata": {},
   "outputs": [
    {
     "name": "stdout",
     "output_type": "stream",
     "text": [
      "Root Mean Squared Error:  6116.166982595983\n"
     ]
    }
   ],
   "source": [
    "print(\"Root Mean Squared Error: \",np.sqrt(mean_squared_error(y_test,y_pred)))\n"
   ]
  },
  {
   "cell_type": "code",
   "execution_count": 163,
   "id": "d94b1a8d",
   "metadata": {},
   "outputs": [
    {
     "data": {
      "text/html": [
       "<div>\n",
       "<style scoped>\n",
       "    .dataframe tbody tr th:only-of-type {\n",
       "        vertical-align: middle;\n",
       "    }\n",
       "\n",
       "    .dataframe tbody tr th {\n",
       "        vertical-align: top;\n",
       "    }\n",
       "\n",
       "    .dataframe thead th {\n",
       "        text-align: right;\n",
       "    }\n",
       "</style>\n",
       "<table border=\"1\" class=\"dataframe\">\n",
       "  <thead>\n",
       "    <tr style=\"text-align: right;\">\n",
       "      <th></th>\n",
       "      <th>Actual</th>\n",
       "      <th>Preicted</th>\n",
       "    </tr>\n",
       "  </thead>\n",
       "  <tbody>\n",
       "    <tr>\n",
       "      <th>507</th>\n",
       "      <td>7000.0</td>\n",
       "      <td>13952.672684</td>\n",
       "    </tr>\n",
       "    <tr>\n",
       "      <th>818</th>\n",
       "      <td>14500.0</td>\n",
       "      <td>24395.019437</td>\n",
       "    </tr>\n",
       "    <tr>\n",
       "      <th>452</th>\n",
       "      <td>6500.0</td>\n",
       "      <td>7051.686055</td>\n",
       "    </tr>\n",
       "    <tr>\n",
       "      <th>368</th>\n",
       "      <td>5700.0</td>\n",
       "      <td>7947.028175</td>\n",
       "    </tr>\n",
       "    <tr>\n",
       "      <th>242</th>\n",
       "      <td>4810.0</td>\n",
       "      <td>8494.271598</td>\n",
       "    </tr>\n",
       "    <tr>\n",
       "      <th>...</th>\n",
       "      <td>...</td>\n",
       "      <td>...</td>\n",
       "    </tr>\n",
       "    <tr>\n",
       "      <th>459</th>\n",
       "      <td>6500.0</td>\n",
       "      <td>9524.003888</td>\n",
       "    </tr>\n",
       "    <tr>\n",
       "      <th>415</th>\n",
       "      <td>6100.0</td>\n",
       "      <td>14938.697245</td>\n",
       "    </tr>\n",
       "    <tr>\n",
       "      <th>61</th>\n",
       "      <td>3000.0</td>\n",
       "      <td>1102.142122</td>\n",
       "    </tr>\n",
       "    <tr>\n",
       "      <th>347</th>\n",
       "      <td>5579.0</td>\n",
       "      <td>7864.560341</td>\n",
       "    </tr>\n",
       "    <tr>\n",
       "      <th>349</th>\n",
       "      <td>5600.0</td>\n",
       "      <td>7225.977320</td>\n",
       "    </tr>\n",
       "  </tbody>\n",
       "</table>\n",
       "<p>300 rows × 2 columns</p>\n",
       "</div>"
      ],
      "text/plain": [
       "      Actual      Preicted\n",
       "507   7000.0  13952.672684\n",
       "818  14500.0  24395.019437\n",
       "452   6500.0   7051.686055\n",
       "368   5700.0   7947.028175\n",
       "242   4810.0   8494.271598\n",
       "..       ...           ...\n",
       "459   6500.0   9524.003888\n",
       "415   6100.0  14938.697245\n",
       "61    3000.0   1102.142122\n",
       "347   5579.0   7864.560341\n",
       "349   5600.0   7225.977320\n",
       "\n",
       "[300 rows x 2 columns]"
      ]
     },
     "execution_count": 163,
     "metadata": {},
     "output_type": "execute_result"
    }
   ],
   "source": [
    "df2=pd.DataFrame({\"Actual\":y_test,\"Preicted\":y_pred})\n",
    "df2\n"
   ]
  },
  {
   "cell_type": "code",
   "execution_count": 159,
   "id": "6486cabb",
   "metadata": {},
   "outputs": [
    {
     "data": {
      "text/plain": [
       "<AxesSubplot:xlabel='RentPerMonth'>"
      ]
     },
     "execution_count": 159,
     "metadata": {},
     "output_type": "execute_result"
    },
    {
     "data": {
      "image/png": "[encoded data removed]",
      "text/plain": [
       "<Figure size 1440x1440 with 1 Axes>"
      ]
     },
     "metadata": {
      "needs_background": "light"
     },
     "output_type": "display_data"
    }
   ],
   "source": [
    "mlp.figure(figsize=(20,20))\n",
    "sns.scatterplot(y_test,y_pred)\n",
    "sns.regplot(y_test,y_pred,ci=None)"
   ]
  },
  {
   "cell_type": "markdown",
   "id": "bf386d77",
   "metadata": {},
   "source": [
    "<b>normalize=False</b>"
   ]
  },
  {
   "cell_type": "code",
   "execution_count": 135,
   "id": "2c13c62b",
   "metadata": {},
   "outputs": [],
   "source": [
    "X_train,X_test,y_train,y_test=train_test_split(X,y,test_size=0.3,\n",
    "                                               random_state=1)\n"
   ]
  },
  {
   "cell_type": "code",
   "execution_count": 136,
   "id": "8e6bbe12",
   "metadata": {},
   "outputs": [
    {
     "data": {
      "text/html": [
       "<div>\n",
       "<style scoped>\n",
       "    .dataframe tbody tr th:only-of-type {\n",
       "        vertical-align: middle;\n",
       "    }\n",
       "\n",
       "    .dataframe tbody tr th {\n",
       "        vertical-align: top;\n",
       "    }\n",
       "\n",
       "    .dataframe thead th {\n",
       "        text-align: right;\n",
       "    }\n",
       "</style>\n",
       "<table border=\"1\" class=\"dataframe\">\n",
       "  <thead>\n",
       "    <tr style=\"text-align: right;\">\n",
       "      <th></th>\n",
       "      <th>BuildingType</th>\n",
       "      <th>Location</th>\n",
       "      <th>Size</th>\n",
       "      <th>AreaSqFt</th>\n",
       "      <th>NoOfBath</th>\n",
       "      <th>NoOfPeople</th>\n",
       "      <th>NoOfBalcony</th>\n",
       "    </tr>\n",
       "  </thead>\n",
       "  <tbody>\n",
       "    <tr>\n",
       "      <th>731</th>\n",
       "      <td>1</td>\n",
       "      <td>1</td>\n",
       "      <td>3</td>\n",
       "      <td>1000.0</td>\n",
       "      <td>4</td>\n",
       "      <td>2</td>\n",
       "      <td>3</td>\n",
       "    </tr>\n",
       "    <tr>\n",
       "      <th>716</th>\n",
       "      <td>1</td>\n",
       "      <td>1</td>\n",
       "      <td>3</td>\n",
       "      <td>1600.0</td>\n",
       "      <td>2</td>\n",
       "      <td>2</td>\n",
       "      <td>1</td>\n",
       "    </tr>\n",
       "    <tr>\n",
       "      <th>640</th>\n",
       "      <td>1</td>\n",
       "      <td>1</td>\n",
       "      <td>3</td>\n",
       "      <td>1799.0</td>\n",
       "      <td>3</td>\n",
       "      <td>2</td>\n",
       "      <td>3</td>\n",
       "    </tr>\n",
       "    <tr>\n",
       "      <th>804</th>\n",
       "      <td>6</td>\n",
       "      <td>0</td>\n",
       "      <td>3</td>\n",
       "      <td>880.0</td>\n",
       "      <td>3</td>\n",
       "      <td>2</td>\n",
       "      <td>1</td>\n",
       "    </tr>\n",
       "    <tr>\n",
       "      <th>737</th>\n",
       "      <td>1</td>\n",
       "      <td>1</td>\n",
       "      <td>3</td>\n",
       "      <td>1691.0</td>\n",
       "      <td>3</td>\n",
       "      <td>2</td>\n",
       "      <td>2</td>\n",
       "    </tr>\n",
       "    <tr>\n",
       "      <th>...</th>\n",
       "      <td>...</td>\n",
       "      <td>...</td>\n",
       "      <td>...</td>\n",
       "      <td>...</td>\n",
       "      <td>...</td>\n",
       "      <td>...</td>\n",
       "      <td>...</td>\n",
       "    </tr>\n",
       "    <tr>\n",
       "      <th>767</th>\n",
       "      <td>6</td>\n",
       "      <td>0</td>\n",
       "      <td>3</td>\n",
       "      <td>1760.0</td>\n",
       "      <td>2</td>\n",
       "      <td>2</td>\n",
       "      <td>2</td>\n",
       "    </tr>\n",
       "    <tr>\n",
       "      <th>72</th>\n",
       "      <td>3</td>\n",
       "      <td>2</td>\n",
       "      <td>2</td>\n",
       "      <td>970.0</td>\n",
       "      <td>2</td>\n",
       "      <td>2</td>\n",
       "      <td>0</td>\n",
       "    </tr>\n",
       "    <tr>\n",
       "      <th>908</th>\n",
       "      <td>0</td>\n",
       "      <td>1</td>\n",
       "      <td>3</td>\n",
       "      <td>1640.0</td>\n",
       "      <td>3</td>\n",
       "      <td>3</td>\n",
       "      <td>2</td>\n",
       "    </tr>\n",
       "    <tr>\n",
       "      <th>235</th>\n",
       "      <td>3</td>\n",
       "      <td>1</td>\n",
       "      <td>3</td>\n",
       "      <td>1330.0</td>\n",
       "      <td>2</td>\n",
       "      <td>1</td>\n",
       "      <td>1</td>\n",
       "    </tr>\n",
       "    <tr>\n",
       "      <th>37</th>\n",
       "      <td>5</td>\n",
       "      <td>2</td>\n",
       "      <td>2</td>\n",
       "      <td>1015.0</td>\n",
       "      <td>2</td>\n",
       "      <td>1</td>\n",
       "      <td>2</td>\n",
       "    </tr>\n",
       "  </tbody>\n",
       "</table>\n",
       "<p>700 rows × 7 columns</p>\n",
       "</div>"
      ],
      "text/plain": [
       "     BuildingType  Location  Size  AreaSqFt  NoOfBath  NoOfPeople  NoOfBalcony\n",
       "731             1         1     3    1000.0         4           2            3\n",
       "716             1         1     3    1600.0         2           2            1\n",
       "640             1         1     3    1799.0         3           2            3\n",
       "804             6         0     3     880.0         3           2            1\n",
       "737             1         1     3    1691.0         3           2            2\n",
       "..            ...       ...   ...       ...       ...         ...          ...\n",
       "767             6         0     3    1760.0         2           2            2\n",
       "72              3         2     2     970.0         2           2            0\n",
       "908             0         1     3    1640.0         3           3            2\n",
       "235             3         1     3    1330.0         2           1            1\n",
       "37              5         2     2    1015.0         2           1            2\n",
       "\n",
       "[700 rows x 7 columns]"
      ]
     },
     "execution_count": 136,
     "metadata": {},
     "output_type": "execute_result"
    }
   ],
   "source": [
    "X_train\n"
   ]
  },
  {
   "cell_type": "code",
   "execution_count": 137,
   "id": "c7f739c9",
   "metadata": {},
   "outputs": [
    {
     "data": {
      "text/plain": [
       "731    11000.0\n",
       "716    10800.0\n",
       "640     9000.0\n",
       "804    14000.0\n",
       "737    11300.0\n",
       "        ...   \n",
       "767    12300.0\n",
       "72      3300.0\n",
       "908    22900.0\n",
       "235     4800.0\n",
       "37      2588.0\n",
       "Name: RentPerMonth, Length: 700, dtype: float64"
      ]
     },
     "execution_count": 137,
     "metadata": {},
     "output_type": "execute_result"
    }
   ],
   "source": [
    "y_train\n"
   ]
  },
  {
   "cell_type": "code",
   "execution_count": 138,
   "id": "1ece1782",
   "metadata": {},
   "outputs": [],
   "source": [
    "model=LinearRegression(normalize=False)\n"
   ]
  },
  {
   "cell_type": "code",
   "execution_count": 139,
   "id": "054009c8",
   "metadata": {},
   "outputs": [
    {
     "data": {
      "text/plain": [
       "LinearRegression()"
      ]
     },
     "execution_count": 139,
     "metadata": {},
     "output_type": "execute_result"
    }
   ],
   "source": [
    "model.fit(X_train,y_train)\n"
   ]
  },
  {
   "cell_type": "code",
   "execution_count": 140,
   "id": "ee8a6690",
   "metadata": {},
   "outputs": [
    {
     "name": "stdout",
     "output_type": "stream",
     "text": [
      "intercept: -11546.831990327135\n"
     ]
    }
   ],
   "source": [
    "print('intercept:', model.intercept_)\n"
   ]
  },
  {
   "cell_type": "code",
   "execution_count": 141,
   "id": "bf9ce679",
   "metadata": {},
   "outputs": [
    {
     "name": "stdout",
     "output_type": "stream",
     "text": [
      "slope: [ 5.26298461e+02 -6.65784952e+02 -3.43092300e+02  8.91489619e-01\n",
      "  2.25021862e+03  6.30015567e+03  1.97904243e+02]\n"
     ]
    }
   ],
   "source": [
    "print('slope:', model.coef_)\n"
   ]
  },
  {
   "cell_type": "code",
   "execution_count": 142,
   "id": "9cf874ba",
   "metadata": {},
   "outputs": [],
   "source": [
    "r_Sq=model.score(X_test,y_test)\n"
   ]
  },
  {
   "cell_type": "code",
   "execution_count": 143,
   "id": "e5be7e85",
   "metadata": {},
   "outputs": [
    {
     "name": "stdout",
     "output_type": "stream",
     "text": [
      "Coefficient of determination:  0.7191945723731713\n"
     ]
    }
   ],
   "source": [
    "print(\"Coefficient of determination: \",r_Sq)\n",
    "\n"
   ]
  },
  {
   "cell_type": "code",
   "execution_count": 144,
   "id": "44f9e111",
   "metadata": {},
   "outputs": [],
   "source": [
    "y_pred = model.predict(X_test)\n"
   ]
  },
  {
   "cell_type": "code",
   "execution_count": 145,
   "id": "67850ef8",
   "metadata": {},
   "outputs": [
    {
     "name": "stdout",
     "output_type": "stream",
     "text": [
      "predicted response:\n",
      "[13952.67268405 24395.01943668  7051.6860551   7947.02817522\n",
      "  8494.27159836 17428.52624753  1792.06056352 11138.18245309\n",
      "  7755.50924829  -977.12976526  7900.54596482  9198.13925001\n",
      " 29452.05025543  2263.17473931 40956.77278599  6825.66180158\n",
      "   416.75085131 -1113.50108605  8827.38054448  5832.50072435\n",
      "  8637.63814424  7396.5347439   8849.66778495 14539.3108591\n",
      "  7612.26877909  7005.73625202   169.92837764  8099.91360055\n",
      "  8514.29847961  5371.29754626 17413.38382912  8738.37647116\n",
      "  8453.10624571  6177.80116572 13948.08403318 13470.81750082\n",
      "  3613.57906426  9872.03385673 12384.74155647  8457.5636938\n",
      " 13389.84826453  9506.92714953  1088.90098041   574.53806127\n",
      "  4798.31558582  6373.91597674  7630.22977424 -1281.79994134\n",
      "  8102.56793108 42915.52036694  7839.72983465  -919.18294004\n",
      " 14172.86416733   841.12368419   565.62316509  8895.93435784\n",
      " 12351.03927032  8148.22324865  6844.86046355  8102.4367283\n",
      "  7463.39646531  8321.32261232  8456.82258182 11492.26658787\n",
      " 15654.28050182 17145.00878984  7033.8361244  11574.02635334\n",
      "  8113.45515352  -360.35660442  9321.64864993  8572.84743503\n",
      "  7234.97383426 24670.99289644 10562.75753935  1235.0308929\n",
      "  1653.87967261 10211.32224602 13862.08692014 15826.84544151\n",
      "   688.64873247 12106.89128093 10172.85698963 10218.32296019\n",
      " 27804.17824463 39578.77501304  9978.51225275 12977.71335571\n",
      " 11745.68115515  6126.09476783  5777.63339135  1518.37325056\n",
      "  9364.44511412 28686.66982008 15033.31989464  7515.24051852\n",
      " 10746.81851045  7795.03060348  1747.48608258  2570.16675448\n",
      "  8299.03537185 -1490.50667147 18541.40407665  1594.23793892\n",
      " 14667.96049206 16361.58290918  8163.53540235  7755.03832087\n",
      "  1909.73074064 29423.19196468 10189.78883984  4968.01819971\n",
      " 29563.33511667 -1056.35767969 11854.43643609  2083.5712163\n",
      "  9927.82854725  6909.0477161   7130.54479864  7372.60217952\n",
      "  7633.2504203   8058.33962734 -1726.75142044  1996.85182233\n",
      "  8456.9537846   7135.45948839 17338.64262623 16882.87134595\n",
      " 14169.17345863 12432.52243329 15409.31005549  1728.88955081\n",
      "  9759.21225908 -2276.64272155 36279.43090498 16959.03229484\n",
      " 11534.80081011 14773.23740499  7370.39218554  9198.1141492\n",
      "  6579.6106668   8246.43748435 32237.16264712  6265.1606958\n",
      "   721.63384837 12685.79866645 11429.85403983 21455.51939414\n",
      "  8515.19642178  7838.88280349 11107.29990275 39411.61731548\n",
      "  -923.62024981  6360.67483523   578.99550937  7147.33635979\n",
      "  8897.80822436  9250.09796487  6772.17242445  8959.47138569\n",
      "  8285.66302757  2313.42419683   545.24365408  7790.88725263\n",
      " 20497.01671288  7588.20501193  8106.48006675  8229.34880395\n",
      " 17170.8912368   1291.13146854  1602.25489294  2164.5454305\n",
      " 10063.20376653  7831.90771673  6477.32877251  2052.36907964\n",
      "  1514.81374464  7665.75815621 13874.98833699 13999.2694079\n",
      "  9540.3767403   1078.07190221 12240.61472375  7559.97130305\n",
      "  5911.24576971  7985.2374786   2018.49247413  5883.64627099\n",
      "  7552.54542718 26435.74513604  8658.14885802 17860.77945149\n",
      "  1604.84774358  8466.47858999 32272.69519172 13127.18634051\n",
      " 13029.29218686  8637.63814424 10063.20376653  1949.84777348\n",
      "  8286.55451719 39795.08312837 31695.72507955  -364.81405251\n",
      "  7552.54542718 14038.44503446  -651.8672572   8272.29068329\n",
      " 11116.20834639 34403.79127875  6794.55418824  7922.83320529\n",
      " 12175.61759979 14270.79682261 17767.94341694 11547.77691234\n",
      "  9915.21648981  2510.43695002 22695.70325479   409.6124818\n",
      "  8887.50142877 14575.68723569  8165.31192904 19186.80951719\n",
      "  6279.4245297  16722.60677396   836.62955663 12303.89758157\n",
      " 38132.78530398 14762.7120505   2076.18794584  1640.50732833\n",
      " 12879.64949765  7615.84119012 10341.34207503 16445.47745666\n",
      "  8963.03734417  8475.39348618  7532.63684361 -1489.61518185\n",
      "  5238.45365143  1235.86556473 13866.39302713  6036.05431634\n",
      " 10390.56980362  9671.2679206  18548.88832297  7656.56035316\n",
      "  7638.54254023  9149.2018443   8452.36513373  9271.30466909\n",
      "  7524.49513936  5831.1429068  34996.4389076   7798.59656196\n",
      " 27157.29203507 10407.32521192 15386.14288863  7840.82261292\n",
      "   839.30402549 19224.6546276   1373.0604427  -1679.34467699\n",
      "  9369.78263679  5681.38633662  8732.14798546 15189.33057792\n",
      "  7309.31364982  -158.11506424 13360.75016807   783.05210874\n",
      " 11852.01332073  2344.62633349 16049.39825988  6036.18551911\n",
      " 13854.52720777  6623.38818144 12322.33728316  8332.14523797\n",
      "  8610.89345568 13135.26760636  6714.22559924  8245.54599473\n",
      "  6186.70960935  7927.29065338 17147.71347018  1622.67753595\n",
      " 10106.3213071  33670.95163817 13537.43432128  1078.07835476\n",
      "  8942.53308294  5471.0076917  15386.14288863  9524.00388829\n",
      " 14938.69724483  1102.14212192  7864.5603412   7225.97731986]\n"
     ]
    }
   ],
   "source": [
    "print('predicted response:', y_pred, sep='\\n')\n"
   ]
  },
  {
   "cell_type": "code",
   "execution_count": 146,
   "id": "fa5f942c",
   "metadata": {},
   "outputs": [
    {
     "name": "stdout",
     "output_type": "stream",
     "text": [
      "Mean Absolute Error:  3753.9878528993854\n"
     ]
    }
   ],
   "source": [
    "print('Mean Absolute Error: ',mean_absolute_error(y_test,y_pred))\n"
   ]
  },
  {
   "cell_type": "code",
   "execution_count": 147,
   "id": "13eef612",
   "metadata": {},
   "outputs": [
    {
     "name": "stdout",
     "output_type": "stream",
     "text": [
      "Mean Squared Error:  37407498.558997355\n"
     ]
    }
   ],
   "source": [
    "print('Mean Squared Error: ',mean_squared_error(y_test,y_pred))\n"
   ]
  },
  {
   "cell_type": "code",
   "execution_count": 148,
   "id": "f96494a3",
   "metadata": {},
   "outputs": [
    {
     "name": "stdout",
     "output_type": "stream",
     "text": [
      "Root Mean Squared Error:  6116.166982595992\n"
     ]
    }
   ],
   "source": [
    "print(\"Root Mean Squared Error: \",np.sqrt(mean_squared_error(y_test,y_pred)))\n"
   ]
  },
  {
   "cell_type": "code",
   "execution_count": 149,
   "id": "876472aa",
   "metadata": {},
   "outputs": [
    {
     "data": {
      "text/html": [
       "<div>\n",
       "<style scoped>\n",
       "    .dataframe tbody tr th:only-of-type {\n",
       "        vertical-align: middle;\n",
       "    }\n",
       "\n",
       "    .dataframe tbody tr th {\n",
       "        vertical-align: top;\n",
       "    }\n",
       "\n",
       "    .dataframe thead th {\n",
       "        text-align: right;\n",
       "    }\n",
       "</style>\n",
       "<table border=\"1\" class=\"dataframe\">\n",
       "  <thead>\n",
       "    <tr style=\"text-align: right;\">\n",
       "      <th></th>\n",
       "      <th>Actual</th>\n",
       "      <th>Preicted</th>\n",
       "    </tr>\n",
       "  </thead>\n",
       "  <tbody>\n",
       "    <tr>\n",
       "      <th>507</th>\n",
       "      <td>7000.0</td>\n",
       "      <td>13952.672684</td>\n",
       "    </tr>\n",
       "    <tr>\n",
       "      <th>818</th>\n",
       "      <td>14500.0</td>\n",
       "      <td>24395.019437</td>\n",
       "    </tr>\n",
       "    <tr>\n",
       "      <th>452</th>\n",
       "      <td>6500.0</td>\n",
       "      <td>7051.686055</td>\n",
       "    </tr>\n",
       "    <tr>\n",
       "      <th>368</th>\n",
       "      <td>5700.0</td>\n",
       "      <td>7947.028175</td>\n",
       "    </tr>\n",
       "    <tr>\n",
       "      <th>242</th>\n",
       "      <td>4810.0</td>\n",
       "      <td>8494.271598</td>\n",
       "    </tr>\n",
       "    <tr>\n",
       "      <th>...</th>\n",
       "      <td>...</td>\n",
       "      <td>...</td>\n",
       "    </tr>\n",
       "    <tr>\n",
       "      <th>459</th>\n",
       "      <td>6500.0</td>\n",
       "      <td>9524.003888</td>\n",
       "    </tr>\n",
       "    <tr>\n",
       "      <th>415</th>\n",
       "      <td>6100.0</td>\n",
       "      <td>14938.697245</td>\n",
       "    </tr>\n",
       "    <tr>\n",
       "      <th>61</th>\n",
       "      <td>3000.0</td>\n",
       "      <td>1102.142122</td>\n",
       "    </tr>\n",
       "    <tr>\n",
       "      <th>347</th>\n",
       "      <td>5579.0</td>\n",
       "      <td>7864.560341</td>\n",
       "    </tr>\n",
       "    <tr>\n",
       "      <th>349</th>\n",
       "      <td>5600.0</td>\n",
       "      <td>7225.977320</td>\n",
       "    </tr>\n",
       "  </tbody>\n",
       "</table>\n",
       "<p>300 rows × 2 columns</p>\n",
       "</div>"
      ],
      "text/plain": [
       "      Actual      Preicted\n",
       "507   7000.0  13952.672684\n",
       "818  14500.0  24395.019437\n",
       "452   6500.0   7051.686055\n",
       "368   5700.0   7947.028175\n",
       "242   4810.0   8494.271598\n",
       "..       ...           ...\n",
       "459   6500.0   9524.003888\n",
       "415   6100.0  14938.697245\n",
       "61    3000.0   1102.142122\n",
       "347   5579.0   7864.560341\n",
       "349   5600.0   7225.977320\n",
       "\n",
       "[300 rows x 2 columns]"
      ]
     },
     "execution_count": 149,
     "metadata": {},
     "output_type": "execute_result"
    }
   ],
   "source": [
    "df2=pd.DataFrame({\"Actual\":y_test,\"Preicted\":y_pred})\n",
    "df2\n"
   ]
  },
  {
   "cell_type": "code",
   "execution_count": 150,
   "id": "70ddb778",
   "metadata": {
    "scrolled": false
   },
   "outputs": [
    {
     "data": {
      "text/plain": [
       "<AxesSubplot:xlabel='RentPerMonth'>"
      ]
     },
     "execution_count": 150,
     "metadata": {},
     "output_type": "execute_result"
    },
    {
     "data": {
      "image/png": "[encoded data removed]",
      "text/plain": [
       "<Figure size 1440x1440 with 1 Axes>"
      ]
     },
     "metadata": {
      "needs_background": "light"
     },
     "output_type": "display_data"
    }
   ],
   "source": [
    "mlp.figure(figsize=(20,20))\n",
    "sns.scatterplot(y_test,y_pred)\n",
    "sns.regplot(y_test,y_pred,ci=None)"
   ]
  },
  {
   "cell_type": "markdown",
   "id": "a37b89e0",
   "metadata": {},
   "source": [
    "Normalization in machine learning is the process of translating data into the range [0, 1] (or any other range) or simply transforming data onto the unit sphere.\n",
    "Here there is no change in the values when changing the value of normalize into true and false.So we can say that there is no impact in giving true/false as the value for normalize parameter."
   ]
  },
  {
   "cell_type": "markdown",
   "id": "ba6f9a7c",
   "metadata": {},
   "source": [
    "<b>Cases</b>\n",
    "\n",
    "Try to predict the rent of the below houses -\n",
    "1. 1 BHK with 2 Baths in Portofino Street\n",
    "2. Fully Furnished 2 BHK in School Street\n",
    "3. Single Room anywhere in Lavasa\n",
    "\n"
   ]
  },
  {
   "cell_type": "code",
   "execution_count": 178,
   "id": "837d1952",
   "metadata": {},
   "outputs": [],
   "source": [
    "from sklearn import preprocessing"
   ]
  },
  {
   "cell_type": "code",
   "execution_count": 179,
   "id": "74e5ba48",
   "metadata": {},
   "outputs": [
    {
     "name": "stdout",
     "output_type": "stream",
     "text": [
      "Please select the features from the list with their index numbers (Leave Empty For Random) \n",
      "\n",
      "\n",
      "{1: 'Minimum Budget Rooms', 2: 'Semi Furnished Single Room', 3: 'Semi Furnished Flat', 4: 'Fully Furnished Single Room', 5: 'Super Furnished Single Room', 6: 'Semi Furnished Villa', 7: 'Fully Furnished Flat', 8: 'Super Furnished Flat', 9: 'Fully Furnished Villa', 10: 'Super Furnished Villa'}\n",
      "Please select any one type of buidling type: 2\n"
     ]
    }
   ],
   "source": [
    "\n",
    "data3 = pd.DataFrame()   #adding data into a dataframe.\n",
    "print(\"Select the features from the list with their index numbers\")\n",
    "print(\"\\n\")\n",
    "\n",
    "dict1 = {1: 'Minimum Budget Rooms',\n",
    "         2: 'Semi Furnished Single Room',\n",
    "         3:'Semi Furnished Flat',\n",
    "         4:'Fully Furnished Single Room',\n",
    "         5:'Super Furnished Single Room',\n",
    "         6:'Semi Furnished Villa',\n",
    "         7:'Fully Furnished Flat',\n",
    "         8: 'Super Furnished Flat',\n",
    "         9:'Fully Furnished Villa',\n",
    "         10:'Super Furnished Villa'}\n",
    "print(dict1)\n",
    "p= int(input(\"Please select any one of buidling type: \"))\n",
    "\n",
    "data = pd.read_csv(r\"D:\\Machine learning\\lab\\HousePrices.csv\")\n",
    "le = preprocessing.LabelEncoder()\n",
    "le.fit(data['BuildingType'])    \n",
    "#finding the building type and fitting it to the dataframe\n",
    "\n",
    "data3['BuildingType'] = [le.transform([dict1[ip]])[0]]   \n",
    "#Appending it to the data3 as list\n"
   ]
  },
  {
   "cell_type": "code",
   "execution_count": 181,
   "id": "e8d1e12a",
   "metadata": {},
   "outputs": [
    {
     "name": "stdout",
     "output_type": "stream",
     "text": [
      "\n",
      "\n",
      "{1: 'Portofino', 2: 'School Street', 3: 'Clubview Road', 4: 'Starter Homes'}\n",
      "Please select any one type of location: 1\n"
     ]
    }
   ],
   "source": [
    "print(\"\\n\")\n",
    "dict2={1:'Portofino', 2:'School Street', 3:'Clubview Road', 4:'Starter Homes'}\n",
    "print(dict2)\n",
    "p = int(input(\"Select onelocation: \"))\n",
    "data = pd.read_csv(r\"D:\\Machine learning\\lab\\HousePrices.csv\")\n",
    "data[\"Location\"] = data[\"Location\"].replace(to_replace =[\"Portofino A\",\n",
    "                                                         \"Portofino B\",\n",
    "                                                         \"Portofino C\",\n",
    "                                                         \"Portofino D\",\n",
    "                                                         \"Portofino E\",\n",
    "                                                         \"Portofino F\",\n",
    "                                                         \"Portofino G\",\n",
    "                                                         \"Portofino H\"],\n",
    "                                            value =\"Portofino\") \n",
    "#replacing all the location of portofino A...H as portofino\n",
    "le = preprocessing.LabelEncoder()\n",
    "le.fit(data['Location'])    #fitting the data to location column\n",
    "data3['Location'] = [le.transform([dict2[ip]])[0]] \n",
    "#appending the data into data3 list"
   ]
  },
  {
   "cell_type": "code",
   "execution_count": 182,
   "id": "8e41fe67",
   "metadata": {},
   "outputs": [
    {
     "name": "stdout",
     "output_type": "stream",
     "text": [
      "\n",
      "\n",
      "{1: '1 BHK', 2: '2 BHK', 3: '1 RK', 4: '3 BHK', 5: '4 BHK', 6: '5 BHK', 7: '6 BHK', 8: '8 BHK', 9: '7 BHK', 10: '9 BHK'}\n",
      "Please select any one type of size: 2\n"
     ]
    }
   ],
   "source": [
    "print(\"\\n\")    \n",
    "dict3={1: '1 BHK', 2: '2 BHK', 3: '1 RK', 4: '3 BHK', 5: '4 BHK',6: '5 BHK', 7:'6 BHK',8:'8 BHK', 9:'7 BHK', \n",
    "               10:'9 BHK'}\n",
    "print(dict3)\n",
    "p = int(input(\"Select one size: \"))\n",
    "data = pd.read_csv(r\"D:\\Machine learning\\lab\\HousePrices.csv\")\n",
    "le = preprocessing.LabelEncoder()\n",
    "le.fit(data['Size'])        #adding it to size column\n",
    "data3['Size'] = [le.transform([dict3[ip]])[0]]       #appending the data into data3 list."
   ]
  },
  {
   "cell_type": "code",
   "execution_count": 188,
   "id": "1cd28df9",
   "metadata": {},
   "outputs": [
    {
     "name": "stdout",
     "output_type": "stream",
     "text": [
      "\n",
      "\n",
      "select square feet area available: 670\n"
     ]
    }
   ],
   "source": [
    "print(\"\\n\")\n",
    "p = int(input(\"Select square feet area available: \"))\n",
    "data3[\"AreaSqFt\"] = p   #appending p to list."
   ]
  },
  {
   "cell_type": "code",
   "execution_count": 190,
   "id": "d7c9bff4",
   "metadata": {},
   "outputs": [
    {
     "name": "stdout",
     "output_type": "stream",
     "text": [
      "\n",
      "\n",
      "Select number of baths you would like to have: 2\n"
     ]
    }
   ],
   "source": [
    "print(\"\\n\")    \n",
    "p = int(input(\"Select number of baths you would like to have: \"))\n",
    "data3[\"NoOfBath\"] = p     #appending p to list\n"
   ]
  },
  {
   "cell_type": "code",
   "execution_count": 191,
   "id": "5abfba3d",
   "metadata": {},
   "outputs": [
    {
     "name": "stdout",
     "output_type": "stream",
     "text": [
      "\n",
      "\n",
      "How many people wish to stay in the property: 2\n"
     ]
    }
   ],
   "source": [
    "print(\"\\n\")    \n",
    "p = int(input(\"How many people wish to stay in the property: \"))\n",
    "data3[\"NoOfPeople\"] = p"
   ]
  },
  {
   "cell_type": "code",
   "execution_count": 192,
   "id": "3e6afed7",
   "metadata": {},
   "outputs": [
    {
     "name": "stdout",
     "output_type": "stream",
     "text": [
      "\n",
      "\n",
      "Select number of balcony's you would like to have1\n"
     ]
    }
   ],
   "source": [
    "print(\"\\n\")    \n",
    "p = int(input(\"Select number of balcony's you would like to have\"))\n",
    "data3[\"NoOfBalcony\"] = p\n"
   ]
  },
  {
   "cell_type": "code",
   "execution_count": 187,
   "id": "d1edc46d",
   "metadata": {},
   "outputs": [
    {
     "name": "stdout",
     "output_type": "stream",
     "text": [
      "You selected following features with values: \n",
      "    BuildingType  Location  Size  AreaSqFt  NoOfBath  NoOfPeople  NoOfBalcony\n",
      "0             5         1     2       670         1           2            1\n",
      "\u001b[1mPredicted Rent is:\u001b[0m [5378.42301066]\n"
     ]
    }
   ],
   "source": [
    "y_prediction =  model.predict(data3)\n",
    "print(\"You selected following features with values: \\n\",data3.head())  #showing the dataset\n",
    "print(\"\\033[1mPredicted Rent is:\\033[0m\" ,y_prediction)"
   ]
  },
  {
   "cell_type": "markdown",
   "id": "e9547e00",
   "metadata": {},
   "source": [
    "On the above table we can see the specified feature we need for our property and the rent Predicted is RS:5378.42301066\n",
    "Like this we can find other prices for the rest of the property we need to find as per our requirements."
   ]
  },
  {
   "cell_type": "markdown",
   "id": "89c70c78",
   "metadata": {},
   "source": [
    "## Conclusion\n",
    "By doing this lab I was able to understand how we can preduct one value by using linear regression to some extend.Here I tried to fit the model in to the data by splitting it into training and testing datasets.I also tried to check what will be the error measures for different test sizes and was able to find the intercept and slope and also was able to understand which is good model. I also tried to find the rent price for a property based on our requirements using the linear regression.By using this model we can predict the rate for datas as per our need."
   ]
  }
 ],
 "metadata": {
  "kernelspec": {
   "display_name": "Python 3",
   "language": "python",
   "name": "python3"
  },
  "language_info": {
   "codemirror_mode": {
    "name": "ipython",
    "version": 3
   },
   "file_extension": ".py",
   "mimetype": "text/x-python",
   "name": "python",
   "nbconvert_exporter": "python",
   "pygments_lexer": "ipython3",
   "version": "3.8.8"
  }
 },
 "nbformat": 4,
 "nbformat_minor": 5
}
